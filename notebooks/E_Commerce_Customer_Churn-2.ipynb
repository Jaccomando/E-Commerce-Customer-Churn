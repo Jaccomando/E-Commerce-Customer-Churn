{
 "cells": [
  {
   "cell_type": "markdown",
   "metadata": {},
   "source": [
    "# Predicting Ecommerce Customer Churn"
   ]
  },
  {
   "cell_type": "markdown",
   "metadata": {},
   "source": [
    "In this project I address customer churn at an e-commerce site which is a significant cost for e-commerce businesses. Using the Ecommerce Customer Churn Analysis and Prediction dataset from Kaggle and well established data science techniques, I build a classification model to help better predict when a customer is likely to discontinue using the service.  This will allow management an opportunity to intervene before the customer leaves, thus reducing customer loss and the need to replace that revenue."
   ]
  },
  {
   "cell_type": "markdown",
   "metadata": {},
   "source": [
    "## Import Packages"
   ]
  },
  {
   "cell_type": "markdown",
   "metadata": {},
   "source": [
    "These are the packages I will use for the project."
   ]
  },
  {
   "cell_type": "code",
   "execution_count": 197,
   "metadata": {},
   "outputs": [],
   "source": [
    "import pandas as pd\n",
    "import numpy as np\n",
    "\n",
    "import matplotlib.pyplot as plt\n",
    "import seaborn as sns\n",
    "from matplotlib.ticker import PercentFormatter\n",
    "\n",
    "from sklearn.preprocessing import OneHotEncoder, StandardScaler\n",
    "\n",
    "from sklearn.linear_model import LogisticRegression\n",
    "from sklearn import svm\n",
    "from sklearn import tree\n",
    "from sklearn.neighbors import KNeighborsClassifier\n",
    "from sklearn.tree import DecisionTreeClassifier\n",
    "from sklearn.naive_bayes import GaussianNB\n",
    "from sklearn.ensemble import StackingClassifier\n",
    "import xgboost as xgb\n",
    "\n",
    "from sklearn.model_selection import train_test_split, cross_val_score, KFold\n",
    "from sklearn.feature_selection import SelectFromModel\n",
    "\n",
    "from sklearn.model_selection import GridSearchCV\n",
    "from sklearn.ensemble import RandomForestClassifier\n",
    "from sklearn.metrics import f1_score\n",
    "\t\n",
    "from sklearn.metrics import roc_auc_score\n",
    "\n",
    "from sklearn.metrics import plot_confusion_matrix\n",
    "from sklearn.metrics import accuracy_score, confusion_matrix, classification_report\n",
    "\n",
    "\n",
    "from sklearn.utils import resample\n",
    "\n",
    "from imblearn.over_sampling import SMOTE"
   ]
  },
  {
   "cell_type": "markdown",
   "metadata": {},
   "source": [
    "## Dataset"
   ]
  },
  {
   "cell_type": "markdown",
   "metadata": {},
   "source": [
    "The dataset used for this project is the Ecommerce Customer Churn Analysis and Prediction dataset from Kaggle. It contains 5,630 rows representing individual customers. There are 20 different features including tenure, gender, marital status, satisfaction score, coupon used, etc. Churn is the target."
   ]
  },
  {
   "cell_type": "markdown",
   "metadata": {},
   "source": [
    "## Import data"
   ]
  },
  {
   "cell_type": "code",
   "execution_count": 198,
   "metadata": {},
   "outputs": [],
   "source": [
    "# load the dataset\n",
    "df = pd.read_csv(\"E_Comm_Table_1.csv\")"
   ]
  },
  {
   "cell_type": "markdown",
   "metadata": {},
   "source": [
    "## Data Exploration & Manipulation"
   ]
  },
  {
   "cell_type": "code",
   "execution_count": 199,
   "metadata": {},
   "outputs": [
    {
     "data": {
      "text/html": [
       "<div>\n",
       "<style scoped>\n",
       "    .dataframe tbody tr th:only-of-type {\n",
       "        vertical-align: middle;\n",
       "    }\n",
       "\n",
       "    .dataframe tbody tr th {\n",
       "        vertical-align: top;\n",
       "    }\n",
       "\n",
       "    .dataframe thead th {\n",
       "        text-align: right;\n",
       "    }\n",
       "</style>\n",
       "<table border=\"1\" class=\"dataframe\">\n",
       "  <thead>\n",
       "    <tr style=\"text-align: right;\">\n",
       "      <th></th>\n",
       "      <th>CustomerID</th>\n",
       "      <th>Churn</th>\n",
       "      <th>Tenure</th>\n",
       "      <th>PreferredLoginDevice</th>\n",
       "      <th>CityTier</th>\n",
       "      <th>WarehouseToHome</th>\n",
       "      <th>PreferredPaymentMode</th>\n",
       "      <th>Gender</th>\n",
       "      <th>HourSpendOnApp</th>\n",
       "      <th>NumberOfDeviceRegistered</th>\n",
       "      <th>PreferedOrderCat</th>\n",
       "      <th>SatisfactionScore</th>\n",
       "      <th>MaritalStatus</th>\n",
       "      <th>NumberOfAddress</th>\n",
       "      <th>Complain</th>\n",
       "      <th>OrderAmountHikeFromlastYear</th>\n",
       "      <th>CouponUsed</th>\n",
       "      <th>OrderCount</th>\n",
       "      <th>DaySinceLastOrder</th>\n",
       "      <th>CashbackAmount</th>\n",
       "    </tr>\n",
       "  </thead>\n",
       "  <tbody>\n",
       "    <tr>\n",
       "      <th>0</th>\n",
       "      <td>50001</td>\n",
       "      <td>1</td>\n",
       "      <td>4.0</td>\n",
       "      <td>Mobile Phone</td>\n",
       "      <td>3</td>\n",
       "      <td>6.0</td>\n",
       "      <td>Debit Card</td>\n",
       "      <td>Female</td>\n",
       "      <td>3.0</td>\n",
       "      <td>3</td>\n",
       "      <td>Laptop &amp; Accessory</td>\n",
       "      <td>2</td>\n",
       "      <td>Single</td>\n",
       "      <td>9</td>\n",
       "      <td>1</td>\n",
       "      <td>11.0</td>\n",
       "      <td>1.0</td>\n",
       "      <td>1.0</td>\n",
       "      <td>5.0</td>\n",
       "      <td>160</td>\n",
       "    </tr>\n",
       "    <tr>\n",
       "      <th>1</th>\n",
       "      <td>50002</td>\n",
       "      <td>1</td>\n",
       "      <td>NaN</td>\n",
       "      <td>Phone</td>\n",
       "      <td>1</td>\n",
       "      <td>8.0</td>\n",
       "      <td>UPI</td>\n",
       "      <td>Male</td>\n",
       "      <td>3.0</td>\n",
       "      <td>4</td>\n",
       "      <td>Mobile</td>\n",
       "      <td>3</td>\n",
       "      <td>Single</td>\n",
       "      <td>7</td>\n",
       "      <td>1</td>\n",
       "      <td>15.0</td>\n",
       "      <td>0.0</td>\n",
       "      <td>1.0</td>\n",
       "      <td>0.0</td>\n",
       "      <td>121</td>\n",
       "    </tr>\n",
       "    <tr>\n",
       "      <th>2</th>\n",
       "      <td>50003</td>\n",
       "      <td>1</td>\n",
       "      <td>NaN</td>\n",
       "      <td>Phone</td>\n",
       "      <td>1</td>\n",
       "      <td>30.0</td>\n",
       "      <td>Debit Card</td>\n",
       "      <td>Male</td>\n",
       "      <td>2.0</td>\n",
       "      <td>4</td>\n",
       "      <td>Mobile</td>\n",
       "      <td>3</td>\n",
       "      <td>Single</td>\n",
       "      <td>6</td>\n",
       "      <td>1</td>\n",
       "      <td>14.0</td>\n",
       "      <td>0.0</td>\n",
       "      <td>1.0</td>\n",
       "      <td>3.0</td>\n",
       "      <td>120</td>\n",
       "    </tr>\n",
       "    <tr>\n",
       "      <th>3</th>\n",
       "      <td>50004</td>\n",
       "      <td>1</td>\n",
       "      <td>0.0</td>\n",
       "      <td>Phone</td>\n",
       "      <td>3</td>\n",
       "      <td>15.0</td>\n",
       "      <td>Debit Card</td>\n",
       "      <td>Male</td>\n",
       "      <td>2.0</td>\n",
       "      <td>4</td>\n",
       "      <td>Laptop &amp; Accessory</td>\n",
       "      <td>5</td>\n",
       "      <td>Single</td>\n",
       "      <td>8</td>\n",
       "      <td>0</td>\n",
       "      <td>23.0</td>\n",
       "      <td>0.0</td>\n",
       "      <td>1.0</td>\n",
       "      <td>3.0</td>\n",
       "      <td>134</td>\n",
       "    </tr>\n",
       "    <tr>\n",
       "      <th>4</th>\n",
       "      <td>50005</td>\n",
       "      <td>1</td>\n",
       "      <td>0.0</td>\n",
       "      <td>Phone</td>\n",
       "      <td>1</td>\n",
       "      <td>12.0</td>\n",
       "      <td>CC</td>\n",
       "      <td>Male</td>\n",
       "      <td>NaN</td>\n",
       "      <td>3</td>\n",
       "      <td>Mobile</td>\n",
       "      <td>5</td>\n",
       "      <td>Single</td>\n",
       "      <td>3</td>\n",
       "      <td>0</td>\n",
       "      <td>11.0</td>\n",
       "      <td>1.0</td>\n",
       "      <td>1.0</td>\n",
       "      <td>3.0</td>\n",
       "      <td>130</td>\n",
       "    </tr>\n",
       "  </tbody>\n",
       "</table>\n",
       "</div>"
      ],
      "text/plain": [
       "   CustomerID  Churn  Tenure PreferredLoginDevice  CityTier  WarehouseToHome  \\\n",
       "0       50001      1     4.0         Mobile Phone         3              6.0   \n",
       "1       50002      1     NaN                Phone         1              8.0   \n",
       "2       50003      1     NaN                Phone         1             30.0   \n",
       "3       50004      1     0.0                Phone         3             15.0   \n",
       "4       50005      1     0.0                Phone         1             12.0   \n",
       "\n",
       "  PreferredPaymentMode  Gender  HourSpendOnApp  NumberOfDeviceRegistered  \\\n",
       "0           Debit Card  Female             3.0                         3   \n",
       "1                  UPI    Male             3.0                         4   \n",
       "2           Debit Card    Male             2.0                         4   \n",
       "3           Debit Card    Male             2.0                         4   \n",
       "4                   CC    Male             NaN                         3   \n",
       "\n",
       "     PreferedOrderCat  SatisfactionScore MaritalStatus  NumberOfAddress  \\\n",
       "0  Laptop & Accessory                  2        Single                9   \n",
       "1              Mobile                  3        Single                7   \n",
       "2              Mobile                  3        Single                6   \n",
       "3  Laptop & Accessory                  5        Single                8   \n",
       "4              Mobile                  5        Single                3   \n",
       "\n",
       "   Complain  OrderAmountHikeFromlastYear  CouponUsed  OrderCount  \\\n",
       "0         1                         11.0         1.0         1.0   \n",
       "1         1                         15.0         0.0         1.0   \n",
       "2         1                         14.0         0.0         1.0   \n",
       "3         0                         23.0         0.0         1.0   \n",
       "4         0                         11.0         1.0         1.0   \n",
       "\n",
       "   DaySinceLastOrder  CashbackAmount  \n",
       "0                5.0             160  \n",
       "1                0.0             121  \n",
       "2                3.0             120  \n",
       "3                3.0             134  \n",
       "4                3.0             130  "
      ]
     },
     "execution_count": 199,
     "metadata": {},
     "output_type": "execute_result"
    }
   ],
   "source": [
    "# look at the dataframe\n",
    "df.head()"
   ]
  },
  {
   "cell_type": "code",
   "execution_count": 288,
   "metadata": {},
   "outputs": [],
   "source": [
    "# rename some columns name for visualization\n",
    "\n",
    "df = df.rename(columns={'SatisfactionScore':'Satisfaction_Score', 'NumberOfDeviceRegistered':'Number_of_Devices', 'DaySinceLastOrder':'Days_Since_Last_Order', 'WarehouseToHome' : 'Warehouse_To_Home' })"
   ]
  },
  {
   "cell_type": "code",
   "execution_count": 289,
   "metadata": {},
   "outputs": [
    {
     "data": {
      "text/html": [
       "<div>\n",
       "<style scoped>\n",
       "    .dataframe tbody tr th:only-of-type {\n",
       "        vertical-align: middle;\n",
       "    }\n",
       "\n",
       "    .dataframe tbody tr th {\n",
       "        vertical-align: top;\n",
       "    }\n",
       "\n",
       "    .dataframe thead th {\n",
       "        text-align: right;\n",
       "    }\n",
       "</style>\n",
       "<table border=\"1\" class=\"dataframe\">\n",
       "  <thead>\n",
       "    <tr style=\"text-align: right;\">\n",
       "      <th></th>\n",
       "      <th>CustomerID</th>\n",
       "      <th>Churn</th>\n",
       "      <th>CityTier</th>\n",
       "      <th>Warehouse_To_Home</th>\n",
       "      <th>HourSpendOnApp</th>\n",
       "      <th>Number_of_Devices</th>\n",
       "      <th>Satisfaction_Score</th>\n",
       "      <th>NumberOfAddress</th>\n",
       "      <th>Complain</th>\n",
       "      <th>OrderAmountHikeFromlastYear</th>\n",
       "      <th>CouponUsed</th>\n",
       "      <th>OrderCount</th>\n",
       "      <th>Days_Since_Last_Order</th>\n",
       "      <th>CashbackAmount</th>\n",
       "    </tr>\n",
       "  </thead>\n",
       "  <tbody>\n",
       "    <tr>\n",
       "      <th>count</th>\n",
       "      <td>3774.000000</td>\n",
       "      <td>3774.000000</td>\n",
       "      <td>3774.000000</td>\n",
       "      <td>3774.000000</td>\n",
       "      <td>3774.000000</td>\n",
       "      <td>3774.000000</td>\n",
       "      <td>3774.000000</td>\n",
       "      <td>3774.000000</td>\n",
       "      <td>3774.000000</td>\n",
       "      <td>3774.00000</td>\n",
       "      <td>3774.000000</td>\n",
       "      <td>3774.000000</td>\n",
       "      <td>3774.000000</td>\n",
       "      <td>3774.000000</td>\n",
       "    </tr>\n",
       "    <tr>\n",
       "      <th>mean</th>\n",
       "      <td>53017.994966</td>\n",
       "      <td>0.167197</td>\n",
       "      <td>1.707737</td>\n",
       "      <td>15.743773</td>\n",
       "      <td>2.981187</td>\n",
       "      <td>3.754107</td>\n",
       "      <td>3.056439</td>\n",
       "      <td>4.216481</td>\n",
       "      <td>0.282194</td>\n",
       "      <td>15.72761</td>\n",
       "      <td>1.719661</td>\n",
       "      <td>2.825384</td>\n",
       "      <td>4.526232</td>\n",
       "      <td>164.215156</td>\n",
       "    </tr>\n",
       "    <tr>\n",
       "      <th>std</th>\n",
       "      <td>1608.979289</td>\n",
       "      <td>0.373201</td>\n",
       "      <td>0.936725</td>\n",
       "      <td>8.594330</td>\n",
       "      <td>0.722158</td>\n",
       "      <td>1.025233</td>\n",
       "      <td>1.389730</td>\n",
       "      <td>2.562142</td>\n",
       "      <td>0.450127</td>\n",
       "      <td>3.62991</td>\n",
       "      <td>1.674508</td>\n",
       "      <td>2.467597</td>\n",
       "      <td>3.371310</td>\n",
       "      <td>24.089821</td>\n",
       "    </tr>\n",
       "    <tr>\n",
       "      <th>min</th>\n",
       "      <td>50001.000000</td>\n",
       "      <td>0.000000</td>\n",
       "      <td>1.000000</td>\n",
       "      <td>5.000000</td>\n",
       "      <td>0.000000</td>\n",
       "      <td>1.000000</td>\n",
       "      <td>1.000000</td>\n",
       "      <td>1.000000</td>\n",
       "      <td>0.000000</td>\n",
       "      <td>11.00000</td>\n",
       "      <td>0.000000</td>\n",
       "      <td>1.000000</td>\n",
       "      <td>0.000000</td>\n",
       "      <td>0.000000</td>\n",
       "    </tr>\n",
       "    <tr>\n",
       "      <th>25%</th>\n",
       "      <td>51656.250000</td>\n",
       "      <td>0.000000</td>\n",
       "      <td>1.000000</td>\n",
       "      <td>9.000000</td>\n",
       "      <td>2.000000</td>\n",
       "      <td>3.000000</td>\n",
       "      <td>2.000000</td>\n",
       "      <td>2.000000</td>\n",
       "      <td>0.000000</td>\n",
       "      <td>13.00000</td>\n",
       "      <td>1.000000</td>\n",
       "      <td>1.000000</td>\n",
       "      <td>2.000000</td>\n",
       "      <td>148.250000</td>\n",
       "    </tr>\n",
       "    <tr>\n",
       "      <th>50%</th>\n",
       "      <td>53160.500000</td>\n",
       "      <td>0.000000</td>\n",
       "      <td>1.000000</td>\n",
       "      <td>14.000000</td>\n",
       "      <td>3.000000</td>\n",
       "      <td>4.000000</td>\n",
       "      <td>3.000000</td>\n",
       "      <td>3.000000</td>\n",
       "      <td>0.000000</td>\n",
       "      <td>15.00000</td>\n",
       "      <td>1.000000</td>\n",
       "      <td>2.000000</td>\n",
       "      <td>3.000000</td>\n",
       "      <td>160.000000</td>\n",
       "    </tr>\n",
       "    <tr>\n",
       "      <th>75%</th>\n",
       "      <td>54394.500000</td>\n",
       "      <td>0.000000</td>\n",
       "      <td>3.000000</td>\n",
       "      <td>21.000000</td>\n",
       "      <td>3.000000</td>\n",
       "      <td>4.000000</td>\n",
       "      <td>4.000000</td>\n",
       "      <td>6.000000</td>\n",
       "      <td>1.000000</td>\n",
       "      <td>18.00000</td>\n",
       "      <td>2.000000</td>\n",
       "      <td>3.000000</td>\n",
       "      <td>7.000000</td>\n",
       "      <td>178.000000</td>\n",
       "    </tr>\n",
       "    <tr>\n",
       "      <th>max</th>\n",
       "      <td>55630.000000</td>\n",
       "      <td>1.000000</td>\n",
       "      <td>3.000000</td>\n",
       "      <td>127.000000</td>\n",
       "      <td>5.000000</td>\n",
       "      <td>6.000000</td>\n",
       "      <td>5.000000</td>\n",
       "      <td>22.000000</td>\n",
       "      <td>1.000000</td>\n",
       "      <td>26.00000</td>\n",
       "      <td>16.000000</td>\n",
       "      <td>16.000000</td>\n",
       "      <td>46.000000</td>\n",
       "      <td>325.000000</td>\n",
       "    </tr>\n",
       "  </tbody>\n",
       "</table>\n",
       "</div>"
      ],
      "text/plain": [
       "         CustomerID        Churn     CityTier  Warehouse_To_Home  \\\n",
       "count   3774.000000  3774.000000  3774.000000        3774.000000   \n",
       "mean   53017.994966     0.167197     1.707737          15.743773   \n",
       "std     1608.979289     0.373201     0.936725           8.594330   \n",
       "min    50001.000000     0.000000     1.000000           5.000000   \n",
       "25%    51656.250000     0.000000     1.000000           9.000000   \n",
       "50%    53160.500000     0.000000     1.000000          14.000000   \n",
       "75%    54394.500000     0.000000     3.000000          21.000000   \n",
       "max    55630.000000     1.000000     3.000000         127.000000   \n",
       "\n",
       "       HourSpendOnApp  Number_of_Devices  Satisfaction_Score  NumberOfAddress  \\\n",
       "count     3774.000000        3774.000000         3774.000000      3774.000000   \n",
       "mean         2.981187           3.754107            3.056439         4.216481   \n",
       "std          0.722158           1.025233            1.389730         2.562142   \n",
       "min          0.000000           1.000000            1.000000         1.000000   \n",
       "25%          2.000000           3.000000            2.000000         2.000000   \n",
       "50%          3.000000           4.000000            3.000000         3.000000   \n",
       "75%          3.000000           4.000000            4.000000         6.000000   \n",
       "max          5.000000           6.000000            5.000000        22.000000   \n",
       "\n",
       "          Complain  OrderAmountHikeFromlastYear   CouponUsed   OrderCount  \\\n",
       "count  3774.000000                   3774.00000  3774.000000  3774.000000   \n",
       "mean      0.282194                     15.72761     1.719661     2.825384   \n",
       "std       0.450127                      3.62991     1.674508     2.467597   \n",
       "min       0.000000                     11.00000     0.000000     1.000000   \n",
       "25%       0.000000                     13.00000     1.000000     1.000000   \n",
       "50%       0.000000                     15.00000     1.000000     2.000000   \n",
       "75%       1.000000                     18.00000     2.000000     3.000000   \n",
       "max       1.000000                     26.00000    16.000000    16.000000   \n",
       "\n",
       "       Days_Since_Last_Order  CashbackAmount  \n",
       "count            3774.000000     3774.000000  \n",
       "mean                4.526232      164.215156  \n",
       "std                 3.371310       24.089821  \n",
       "min                 0.000000        0.000000  \n",
       "25%                 2.000000      148.250000  \n",
       "50%                 3.000000      160.000000  \n",
       "75%                 7.000000      178.000000  \n",
       "max                46.000000      325.000000  "
      ]
     },
     "execution_count": 289,
     "metadata": {},
     "output_type": "execute_result"
    }
   ],
   "source": [
    "# look at the numeric columns\n",
    "df.describe()"
   ]
  },
  {
   "cell_type": "code",
   "execution_count": 202,
   "metadata": {},
   "outputs": [
    {
     "data": {
      "text/plain": [
       "CustomerID                       0\n",
       "Churn                            0\n",
       "Tenure                         264\n",
       "PreferredLoginDevice             0\n",
       "CityTier                         0\n",
       "WarehouseToHome                251\n",
       "PreferredPaymentMode             0\n",
       "Gender                           0\n",
       "HourSpendOnApp                 255\n",
       "NumberOfDeviceRegistered         0\n",
       "PreferedOrderCat                 0\n",
       "SatisfactionScore                0\n",
       "MaritalStatus                    0\n",
       "NumberOfAddress                  0\n",
       "Complain                         0\n",
       "OrderAmountHikeFromlastYear    265\n",
       "CouponUsed                     256\n",
       "OrderCount                     258\n",
       "DaySinceLastOrder              307\n",
       "CashbackAmount                   0\n",
       "dtype: int64"
      ]
     },
     "execution_count": 202,
     "metadata": {},
     "output_type": "execute_result"
    }
   ],
   "source": [
    "# check for NAs\n",
    "df.isna().sum()"
   ]
  },
  {
   "cell_type": "code",
   "execution_count": 203,
   "metadata": {},
   "outputs": [],
   "source": [
    "# as there are not many NAs I will drop them from the dataframe\n",
    "df = df.dropna()"
   ]
  },
  {
   "cell_type": "code",
   "execution_count": 204,
   "metadata": {},
   "outputs": [
    {
     "data": {
      "text/plain": [
       "array([1, 0])"
      ]
     },
     "execution_count": 204,
     "metadata": {},
     "output_type": "execute_result"
    }
   ],
   "source": [
    "# look at values in target 'Churn'\n",
    "df.Churn.unique()"
   ]
  },
  {
   "cell_type": "code",
   "execution_count": 205,
   "metadata": {},
   "outputs": [],
   "source": [
    "# identify target/split off target\n",
    "X = df.drop('Churn', axis=1)\n",
    "y = df.Churn"
   ]
  },
  {
   "cell_type": "code",
   "execution_count": 206,
   "metadata": {},
   "outputs": [
    {
     "data": {
      "text/plain": [
       "0    0.832803\n",
       "1    0.167197\n",
       "Name: Churn, dtype: float64"
      ]
     },
     "execution_count": 206,
     "metadata": {},
     "output_type": "execute_result"
    }
   ],
   "source": [
    "# target balance\n",
    "df.Churn.value_counts(normalize=True)"
   ]
  },
  {
   "cell_type": "markdown",
   "metadata": {},
   "source": [
    "## Create Train and Test Data"
   ]
  },
  {
   "cell_type": "code",
   "execution_count": 207,
   "metadata": {},
   "outputs": [],
   "source": [
    "# train test split\n",
    "X_train, X_test, y_train, y_test = train_test_split(X, y, test_size = 0.20, random_state = 42)"
   ]
  },
  {
   "cell_type": "markdown",
   "metadata": {},
   "source": [
    "## Create Validation Data"
   ]
  },
  {
   "cell_type": "code",
   "execution_count": 208,
   "metadata": {},
   "outputs": [],
   "source": [
    "# create validation data\n",
    "X_t, X_val, y_t, y_val = train_test_split(X_train, y_train, test_size = 0.20, random_state = 42)"
   ]
  },
  {
   "cell_type": "markdown",
   "metadata": {},
   "source": [
    "## Pre-process Training Data"
   ]
  },
  {
   "cell_type": "code",
   "execution_count": 209,
   "metadata": {},
   "outputs": [
    {
     "data": {
      "text/plain": [
       "(2415, 14)"
      ]
     },
     "execution_count": 209,
     "metadata": {},
     "output_type": "execute_result"
    }
   ],
   "source": [
    "# isolate numerical columns\n",
    "X_t_num = X_t.select_dtypes(exclude='object')\n",
    "X_t_num.shape"
   ]
  },
  {
   "cell_type": "code",
   "execution_count": 210,
   "metadata": {},
   "outputs": [
    {
     "data": {
      "text/plain": [
       "(2415, 14)"
      ]
     },
     "execution_count": 210,
     "metadata": {},
     "output_type": "execute_result"
    }
   ],
   "source": [
    "# scale numerical data\n",
    "from sklearn.preprocessing import OneHotEncoder, StandardScaler\n",
    "ss = StandardScaler()\n",
    "X_t_sc = pd.DataFrame(ss.fit_transform(X_t_num), index= X_t_num.index, columns= X_t_num.columns)\n",
    "X_t_sc.shape"
   ]
  },
  {
   "cell_type": "code",
   "execution_count": 211,
   "metadata": {},
   "outputs": [
    {
     "data": {
      "text/plain": [
       "(2415, 16)"
      ]
     },
     "execution_count": 211,
     "metadata": {},
     "output_type": "execute_result"
    }
   ],
   "source": [
    "# add in one hot encoded\n",
    "ohe = OneHotEncoder(sparse= False, drop= 'first')\n",
    "\n",
    "X_t_cat = X_t.select_dtypes(include= 'object')\n",
    "\n",
    "#fit transform\n",
    "X_t_oh = pd.DataFrame(ohe.fit_transform(X_t_cat), index= X_t_cat.index, columns=ohe.get_feature_names(X_t_cat.columns))\n",
    "X_t_oh.shape"
   ]
  },
  {
   "cell_type": "code",
   "execution_count": 212,
   "metadata": {},
   "outputs": [
    {
     "data": {
      "text/plain": [
       "(2415, 30)"
      ]
     },
     "execution_count": 212,
     "metadata": {},
     "output_type": "execute_result"
    }
   ],
   "source": [
    "# merge databases\n",
    "X_t_f = pd.merge(X_t_sc, X_t_oh, left_index=True, right_index=True)\n",
    "X_t_f.shape"
   ]
  },
  {
   "cell_type": "code",
   "execution_count": 213,
   "metadata": {},
   "outputs": [],
   "source": [
    "# smote\n",
    "smote = SMOTE()\n",
    "X_t_sm, y_t_sm = smote.fit_sample(X_t_f, y_t)"
   ]
  },
  {
   "cell_type": "markdown",
   "metadata": {},
   "source": [
    "## Pre-process Validation Data"
   ]
  },
  {
   "cell_type": "code",
   "execution_count": 214,
   "metadata": {},
   "outputs": [
    {
     "data": {
      "text/plain": [
       "(604, 14)"
      ]
     },
     "execution_count": 214,
     "metadata": {},
     "output_type": "execute_result"
    }
   ],
   "source": [
    "# isolate numerical columns\n",
    "X_val_num = X_val.select_dtypes(exclude='object')\n",
    "X_val_num.shape"
   ]
  },
  {
   "cell_type": "code",
   "execution_count": 215,
   "metadata": {},
   "outputs": [
    {
     "data": {
      "text/plain": [
       "(604, 14)"
      ]
     },
     "execution_count": 215,
     "metadata": {},
     "output_type": "execute_result"
    }
   ],
   "source": [
    "# scale numerical data\n",
    "X_val_sc = pd.DataFrame(ss.transform(X_val_num), index= X_val_num.index, columns= X_val_num.columns)\n",
    "X_val_sc.shape"
   ]
  },
  {
   "cell_type": "code",
   "execution_count": 216,
   "metadata": {},
   "outputs": [
    {
     "data": {
      "text/plain": [
       "(604, 16)"
      ]
     },
     "execution_count": 216,
     "metadata": {},
     "output_type": "execute_result"
    }
   ],
   "source": [
    "# one hot encoded\n",
    "\n",
    "X_val_cat = X_val.select_dtypes(include= 'object')\n",
    "\n",
    "# transform\n",
    "X_val_oh = pd.DataFrame(ohe.transform(X_val_cat), index= X_val_cat.index, columns=ohe.get_feature_names(X_val_cat.columns))\n",
    "X_val_oh.shape"
   ]
  },
  {
   "cell_type": "code",
   "execution_count": 217,
   "metadata": {},
   "outputs": [
    {
     "data": {
      "text/plain": [
       "(604, 30)"
      ]
     },
     "execution_count": 217,
     "metadata": {},
     "output_type": "execute_result"
    }
   ],
   "source": [
    "# merge databases\n",
    "X_val_f = pd.merge(X_val_sc, X_val_oh, left_index=True, right_index=True)\n",
    "X_val_f.shape"
   ]
  },
  {
   "cell_type": "markdown",
   "metadata": {},
   "source": [
    "## Model Metrics"
   ]
  },
  {
   "cell_type": "markdown",
   "metadata": {},
   "source": [
    "I will use Accuracy and F-1 Score (a balance of Precision and Recall) as my primary metrics. In this business case, minimizing the number of False Negatives (the number of customers predicted to stay that actually leave) is important and is generally measured by a Recall Score. But a case can be made that minimizing False Positives (the number of customers predicted to leave that actually stay) is also important and is generally measured by a Precision Score. So an F-1 Score is considered to be a nice balanced metric between Precision and Recall."
   ]
  },
  {
   "cell_type": "markdown",
   "metadata": {},
   "source": [
    "## First Simple Modle"
   ]
  },
  {
   "cell_type": "markdown",
   "metadata": {},
   "source": [
    "Logistic regression does not perform very well even after tuning several hyper parameters. I will move onto other models that usually perform better in binary classification such as Random Forest, K Nearest Neighbor, etc."
   ]
  },
  {
   "cell_type": "code",
   "execution_count": 218,
   "metadata": {},
   "outputs": [
    {
     "data": {
      "text/plain": [
       "0.8252741774675972"
      ]
     },
     "execution_count": 218,
     "metadata": {},
     "output_type": "execute_result"
    }
   ],
   "source": [
    "# instantiate model\n",
    "lg = LogisticRegression()\n",
    "\n",
    "# fit model\n",
    "lg.fit(X_t_sm, y_t_sm)\n",
    "\n",
    "# check accuracy on training data\n",
    "lg.score(X_t_sm, y_t_sm)"
   ]
  },
  {
   "cell_type": "code",
   "execution_count": 219,
   "metadata": {},
   "outputs": [
    {
     "name": "stdout",
     "output_type": "stream",
     "text": [
      "[[402  87]\n",
      " [ 23  92]]\n",
      "              precision    recall  f1-score   support\n",
      "\n",
      "           0       0.95      0.82      0.88       489\n",
      "           1       0.51      0.80      0.63       115\n",
      "\n",
      "    accuracy                           0.82       604\n",
      "   macro avg       0.73      0.81      0.75       604\n",
      "weighted avg       0.86      0.82      0.83       604\n",
      "\n"
     ]
    }
   ],
   "source": [
    "# validation testing\n",
    "\n",
    "# set predictions\n",
    "pred_lg_val = lg.predict(X_val_f)\n",
    "\n",
    "# confusion matrix and classification report\n",
    "print(confusion_matrix(y_val, pred_lg_val))\n",
    "print(classification_report(y_val, pred_lg_val))"
   ]
  },
  {
   "cell_type": "code",
   "execution_count": 220,
   "metadata": {},
   "outputs": [
    {
     "data": {
      "image/png": "[encoded data removed]",
      "text/plain": [
       "<Figure size 640x480 with 2 Axes>"
      ]
     },
     "metadata": {},
     "output_type": "display_data"
    }
   ],
   "source": [
    "# plot confusion matrix\n",
    "fig, ax = plt.subplots()\n",
    "\n",
    "fig.suptitle(\"Logistic Regression Validation Confusion Matrix \")\n",
    "\n",
    "plot_confusion_matrix(lg, X_val_f, y_val, ax=ax, cmap=\"plasma\");"
   ]
  },
  {
   "cell_type": "markdown",
   "metadata": {},
   "source": [
    "## Support Vector Machine (SVM)"
   ]
  },
  {
   "cell_type": "code",
   "execution_count": 221,
   "metadata": {},
   "outputs": [
    {
     "data": {
      "text/plain": [
       "0.9638584247258225"
      ]
     },
     "execution_count": 221,
     "metadata": {},
     "output_type": "execute_result"
    }
   ],
   "source": [
    "# instantiate model\n",
    "svm = svm.SVC()\n",
    "\n",
    "# fit model\n",
    "svm.fit(X_t_sm, y_t_sm)\n",
    "\n",
    "# check accuracy on training data\n",
    "svm.score(X_t_sm, y_t_sm)"
   ]
  },
  {
   "cell_type": "code",
   "execution_count": 222,
   "metadata": {},
   "outputs": [
    {
     "name": "stdout",
     "output_type": "stream",
     "text": [
      "[[447  42]\n",
      " [ 25  90]]\n",
      "              precision    recall  f1-score   support\n",
      "\n",
      "           0       0.95      0.91      0.93       489\n",
      "           1       0.68      0.78      0.73       115\n",
      "\n",
      "    accuracy                           0.89       604\n",
      "   macro avg       0.81      0.85      0.83       604\n",
      "weighted avg       0.90      0.89      0.89       604\n",
      "\n"
     ]
    }
   ],
   "source": [
    "# validation testing\n",
    "\n",
    "# set predictions\n",
    "pred_svm_val = svm.predict(X_val_f)\n",
    "\n",
    "# confusion matrix and classification report\n",
    "print(confusion_matrix(y_val, pred_svm_val))\n",
    "print(classification_report(y_val, pred_svm_val))"
   ]
  },
  {
   "cell_type": "code",
   "execution_count": 223,
   "metadata": {},
   "outputs": [
    {
     "data": {
      "image/png": "[encoded data removed]",
      "text/plain": [
       "<Figure size 640x480 with 2 Axes>"
      ]
     },
     "metadata": {},
     "output_type": "display_data"
    }
   ],
   "source": [
    "# plot confusion matrix\n",
    "fig, ax = plt.subplots()\n",
    "\n",
    "fig.suptitle(\"SVM Validation Confusion Matrix \")\n",
    "\n",
    "plot_confusion_matrix(svm, X_val_f, y_val, ax=ax, cmap=\"plasma\");"
   ]
  },
  {
   "cell_type": "markdown",
   "metadata": {},
   "source": [
    "## Random Forest Classifier"
   ]
  },
  {
   "cell_type": "code",
   "execution_count": 224,
   "metadata": {},
   "outputs": [
    {
     "data": {
      "text/plain": [
       "1.0"
      ]
     },
     "execution_count": 224,
     "metadata": {},
     "output_type": "execute_result"
    }
   ],
   "source": [
    "# instantiate model\n",
    "rfm = RandomForestClassifier()\n",
    "\n",
    "# fit model\n",
    "rfm.fit(X_t_sm, y_t_sm)\n",
    "\n",
    "# check accuracy\n",
    "rfm.score(X_t_sm, y_t_sm)"
   ]
  },
  {
   "cell_type": "code",
   "execution_count": 225,
   "metadata": {},
   "outputs": [
    {
     "name": "stdout",
     "output_type": "stream",
     "text": [
      "[[475  14]\n",
      " [ 32  83]]\n",
      "              precision    recall  f1-score   support\n",
      "\n",
      "           0       0.94      0.97      0.95       489\n",
      "           1       0.86      0.72      0.78       115\n",
      "\n",
      "    accuracy                           0.92       604\n",
      "   macro avg       0.90      0.85      0.87       604\n",
      "weighted avg       0.92      0.92      0.92       604\n",
      "\n"
     ]
    }
   ],
   "source": [
    "# validation testing\n",
    "\n",
    "# set predictions\n",
    "pred_rfm_val = rfm.predict(X_val_f)\n",
    "\n",
    "# confusion matrix and classification report\n",
    "print(confusion_matrix(y_val, pred_rfm_val))\n",
    "print(classification_report(y_val, pred_rfm_val))"
   ]
  },
  {
   "cell_type": "code",
   "execution_count": 226,
   "metadata": {},
   "outputs": [
    {
     "data": {
      "text/plain": [
       "0.9992522432701895"
      ]
     },
     "execution_count": 226,
     "metadata": {},
     "output_type": "execute_result"
    }
   ],
   "source": [
    "# adjust some hyper parameters to address overfitting\n",
    "\n",
    "# instantiate model\n",
    "rfm2 = RandomForestClassifier(n_estimators=15, max_depth=15, max_leaf_nodes=500)\n",
    "\n",
    "# fit model\n",
    "rfm2.fit(X_t_sm, y_t_sm)\n",
    "\n",
    "# check accuracy on training data\n",
    "rfm2.score(X_t_sm, y_t_sm)"
   ]
  },
  {
   "cell_type": "code",
   "execution_count": 227,
   "metadata": {},
   "outputs": [
    {
     "name": "stdout",
     "output_type": "stream",
     "text": [
      "[[471  18]\n",
      " [ 36  79]]\n",
      "              precision    recall  f1-score   support\n",
      "\n",
      "           0       0.93      0.96      0.95       489\n",
      "           1       0.81      0.69      0.75       115\n",
      "\n",
      "    accuracy                           0.91       604\n",
      "   macro avg       0.87      0.83      0.85       604\n",
      "weighted avg       0.91      0.91      0.91       604\n",
      "\n"
     ]
    }
   ],
   "source": [
    "# validation testing\n",
    "\n",
    "# set predictions\n",
    "pred_rfm2_val = rfm2.predict(X_val_f)\n",
    "\n",
    "# confusion matrix and classification report\n",
    "print(confusion_matrix(y_val, pred_rfm2_val))\n",
    "print(classification_report(y_val, pred_rfm2_val))"
   ]
  },
  {
   "cell_type": "code",
   "execution_count": 228,
   "metadata": {},
   "outputs": [
    {
     "data": {
      "image/png": "[encoded data removed]",
      "text/plain": [
       "<Figure size 640x480 with 2 Axes>"
      ]
     },
     "metadata": {},
     "output_type": "display_data"
    }
   ],
   "source": [
    "# plot confusion matrix\n",
    "fig, ax = plt.subplots()\n",
    "\n",
    "fig.suptitle(\"Random Forest Validation Confusion Matrix \")\n",
    "\n",
    "plot_confusion_matrix(rfm2, X_val_f, y_val, ax=ax, cmap=\"plasma\");"
   ]
  },
  {
   "cell_type": "markdown",
   "metadata": {},
   "source": [
    "## K Nearest Neighbor (KNN)"
   ]
  },
  {
   "cell_type": "code",
   "execution_count": 229,
   "metadata": {},
   "outputs": [
    {
     "data": {
      "text/plain": [
       "0.939431704885344"
      ]
     },
     "execution_count": 229,
     "metadata": {},
     "output_type": "execute_result"
    }
   ],
   "source": [
    "# instantiate model\n",
    "knn = KNeighborsClassifier()\n",
    "# fit model\n",
    "knn = knn.fit(X_t_sm, y_t_sm)\n",
    "# check accuracy\n",
    "knn.score(X_t_sm, y_t_sm)"
   ]
  },
  {
   "cell_type": "code",
   "execution_count": 230,
   "metadata": {},
   "outputs": [
    {
     "name": "stdout",
     "output_type": "stream",
     "text": [
      "[[401  88]\n",
      " [ 10 105]]\n",
      "              precision    recall  f1-score   support\n",
      "\n",
      "           0       0.98      0.82      0.89       489\n",
      "           1       0.54      0.91      0.68       115\n",
      "\n",
      "    accuracy                           0.84       604\n",
      "   macro avg       0.76      0.87      0.79       604\n",
      "weighted avg       0.89      0.84      0.85       604\n",
      "\n"
     ]
    }
   ],
   "source": [
    "# validation testing\n",
    "\n",
    "# set predictions\n",
    "pred_knn_val = knn.predict(X_val_f)\n",
    "\n",
    "# confusion matrix and classification report\n",
    "print(confusion_matrix(y_val, pred_knn_val))\n",
    "print(classification_report(y_val, pred_knn_val))"
   ]
  },
  {
   "cell_type": "code",
   "execution_count": 231,
   "metadata": {},
   "outputs": [
    {
     "data": {
      "image/png": "[encoded data removed]",
      "text/plain": [
       "<Figure size 640x480 with 2 Axes>"
      ]
     },
     "metadata": {},
     "output_type": "display_data"
    }
   ],
   "source": [
    "# plot confusion matrix\n",
    "fig, ax = plt.subplots()\n",
    "\n",
    "fig.suptitle(\"KNN Validation Confusion Matrix \")\n",
    "\n",
    "plot_confusion_matrix(knn, X_val_f, y_val, ax=ax, cmap=\"plasma\");"
   ]
  },
  {
   "cell_type": "markdown",
   "metadata": {},
   "source": [
    "## Decision Tree Classifier"
   ]
  },
  {
   "cell_type": "code",
   "execution_count": 232,
   "metadata": {},
   "outputs": [
    {
     "data": {
      "text/plain": [
       "1.0"
      ]
     },
     "execution_count": 232,
     "metadata": {},
     "output_type": "execute_result"
    }
   ],
   "source": [
    "# instantiate model\n",
    "dtc = DecisionTreeClassifier()\n",
    "# fit model\n",
    "dtc = dtc.fit(X_t_sm, y_t_sm)\n",
    "# check accuracy\n",
    "dtc.score(X_t_sm, y_t_sm)"
   ]
  },
  {
   "cell_type": "code",
   "execution_count": 233,
   "metadata": {},
   "outputs": [
    {
     "name": "stdout",
     "output_type": "stream",
     "text": [
      "[[453  36]\n",
      " [ 37  78]]\n",
      "              precision    recall  f1-score   support\n",
      "\n",
      "           0       0.92      0.93      0.93       489\n",
      "           1       0.68      0.68      0.68       115\n",
      "\n",
      "    accuracy                           0.88       604\n",
      "   macro avg       0.80      0.80      0.80       604\n",
      "weighted avg       0.88      0.88      0.88       604\n",
      "\n"
     ]
    }
   ],
   "source": [
    "# validation testing\n",
    "\n",
    "# set predictions\n",
    "pred_dtc_val = dtc.predict(X_val_f)\n",
    "\n",
    "# confusion matrix and classification report\n",
    "print(confusion_matrix(y_val, pred_dtc_val))\n",
    "print(classification_report(y_val, pred_dtc_val))"
   ]
  },
  {
   "cell_type": "code",
   "execution_count": 234,
   "metadata": {},
   "outputs": [
    {
     "data": {
      "image/png": "[encoded data removed]",
      "text/plain": [
       "<Figure size 640x480 with 2 Axes>"
      ]
     },
     "metadata": {},
     "output_type": "display_data"
    }
   ],
   "source": [
    "# plot confusion matrix\n",
    "fig, ax = plt.subplots()\n",
    "\n",
    "fig.suptitle(\"DTC Validation Confusion Matrix \")\n",
    "\n",
    "plot_confusion_matrix(dtc, X_val_f, y_val, ax=ax, cmap=\"plasma\");"
   ]
  },
  {
   "cell_type": "markdown",
   "metadata": {},
   "source": [
    "## Gaussian Naive Bayes"
   ]
  },
  {
   "cell_type": "code",
   "execution_count": 235,
   "metadata": {},
   "outputs": [
    {
     "data": {
      "text/plain": [
       "0.5807577268195414"
      ]
     },
     "execution_count": 235,
     "metadata": {},
     "output_type": "execute_result"
    }
   ],
   "source": [
    "# instantiate model\n",
    "nbclf = GaussianNB()\n",
    "# fit model\n",
    "nbclf = nbclf.fit(X_t_sm, y_t_sm)\n",
    "# check accuracy\n",
    "nbclf.score(X_t_sm, y_t_sm)"
   ]
  },
  {
   "cell_type": "code",
   "execution_count": 236,
   "metadata": {},
   "outputs": [
    {
     "name": "stdout",
     "output_type": "stream",
     "text": [
      "[[ 86 403]\n",
      " [  5 110]]\n",
      "              precision    recall  f1-score   support\n",
      "\n",
      "           0       0.95      0.18      0.30       489\n",
      "           1       0.21      0.96      0.35       115\n",
      "\n",
      "    accuracy                           0.32       604\n",
      "   macro avg       0.58      0.57      0.32       604\n",
      "weighted avg       0.81      0.32      0.31       604\n",
      "\n"
     ]
    }
   ],
   "source": [
    "# validation testing\n",
    "\n",
    "# set predictions\n",
    "pred_nbclf_val = nbclf.predict(X_val_f)\n",
    "\n",
    "# confusion matrix and classification report\n",
    "print(confusion_matrix(y_val, pred_nbclf_val))\n",
    "print(classification_report(y_val, pred_nbclf_val))"
   ]
  },
  {
   "cell_type": "code",
   "execution_count": 237,
   "metadata": {},
   "outputs": [
    {
     "data": {
      "image/png": "[encoded data removed]",
      "text/plain": [
       "<Figure size 640x480 with 2 Axes>"
      ]
     },
     "metadata": {},
     "output_type": "display_data"
    }
   ],
   "source": [
    "# plot confusion matrix\n",
    "fig, ax = plt.subplots()\n",
    "\n",
    "fig.suptitle(\"nbclf Validation Confusion Matrix \")\n",
    "\n",
    "plot_confusion_matrix(nbclf, X_val_f, y_val, ax=ax, cmap=\"plasma\");"
   ]
  },
  {
   "cell_type": "markdown",
   "metadata": {},
   "source": [
    "## XGBoost Model"
   ]
  },
  {
   "cell_type": "code",
   "execution_count": 238,
   "metadata": {},
   "outputs": [
    {
     "data": {
      "text/plain": [
       "0.8676470588235294"
      ]
     },
     "execution_count": 238,
     "metadata": {},
     "output_type": "execute_result"
    }
   ],
   "source": [
    "XGB_model=xgb.XGBClassifier(random_state=42,learning_rate=0.01)\n",
    "XGB_model.fit(X_t_sm, y_t_sm)\n",
    "# check accuracy\n",
    "XGB_model.score(X_t_sm, y_t_sm)"
   ]
  },
  {
   "cell_type": "code",
   "execution_count": 239,
   "metadata": {},
   "outputs": [
    {
     "name": "stdout",
     "output_type": "stream",
     "text": [
      "[[434  55]\n",
      " [ 34  81]]\n",
      "              precision    recall  f1-score   support\n",
      "\n",
      "           0       0.93      0.89      0.91       489\n",
      "           1       0.60      0.70      0.65       115\n",
      "\n",
      "    accuracy                           0.85       604\n",
      "   macro avg       0.76      0.80      0.78       604\n",
      "weighted avg       0.86      0.85      0.86       604\n",
      "\n"
     ]
    }
   ],
   "source": [
    "# validation testing\n",
    "\n",
    "# set predictions\n",
    "pred_XGB_model_val = XGB_model.predict(X_val_f)\n",
    "\n",
    "# confusion matrix and classification report\n",
    "print(confusion_matrix(y_val, pred_XGB_model_val))\n",
    "print(classification_report(y_val, pred_XGB_model_val))"
   ]
  },
  {
   "cell_type": "code",
   "execution_count": 240,
   "metadata": {},
   "outputs": [
    {
     "data": {
      "image/png": "[encoded data removed]",
      "text/plain": [
       "<Figure size 640x480 with 2 Axes>"
      ]
     },
     "metadata": {},
     "output_type": "display_data"
    }
   ],
   "source": [
    "# plot confusion matrix\n",
    "fig, ax = plt.subplots()\n",
    "\n",
    "fig.suptitle(\"XGB Validation Confusion Matrix \")\n",
    "\n",
    "plot_confusion_matrix(XGB_model, X_val_f, y_val, ax=ax, cmap=\"plasma\");"
   ]
  },
  {
   "cell_type": "markdown",
   "metadata": {},
   "source": [
    "## Stacking Ensemble Models"
   ]
  },
  {
   "cell_type": "markdown",
   "metadata": {},
   "source": [
    "The Stacked Model performs the best on validation data based on Accuracy and F-1 Score and I will use it as my final model."
   ]
  },
  {
   "cell_type": "code",
   "execution_count": 241,
   "metadata": {},
   "outputs": [
    {
     "data": {
      "text/plain": [
       "0.9992522432701895"
      ]
     },
     "execution_count": 241,
     "metadata": {},
     "output_type": "execute_result"
    }
   ],
   "source": [
    "# Create Base Learners\n",
    "base_learners = [\n",
    "                 ('rfm2', RandomForestClassifier(n_estimators=10, random_state=42)),\n",
    "                 ('knn', KNeighborsClassifier(n_neighbors=5)),\n",
    "                 ('dtc', DecisionTreeClassifier())\n",
    "                ]\n",
    "\n",
    "# Initialize Stacking Classifier with the Meta Learner\n",
    "clf = StackingClassifier(estimators=base_learners, final_estimator=LogisticRegression())\n",
    "\n",
    "# fit model and check accuracy score\n",
    "clf.fit(X_t_sm, y_t_sm).score(X_t_sm, y_t_sm)"
   ]
  },
  {
   "cell_type": "code",
   "execution_count": 242,
   "metadata": {},
   "outputs": [
    {
     "name": "stdout",
     "output_type": "stream",
     "text": [
      "[[479  10]\n",
      " [ 25  90]]\n",
      "              precision    recall  f1-score   support\n",
      "\n",
      "           0       0.95      0.98      0.96       489\n",
      "           1       0.90      0.78      0.84       115\n",
      "\n",
      "    accuracy                           0.94       604\n",
      "   macro avg       0.93      0.88      0.90       604\n",
      "weighted avg       0.94      0.94      0.94       604\n",
      "\n"
     ]
    }
   ],
   "source": [
    "# validation testing\n",
    "\n",
    "# set predictions\n",
    "pred_clf_val = clf.predict(X_val_f)\n",
    "\n",
    "# confusion matrix and classification report\n",
    "print(confusion_matrix(y_val, pred_clf_val))\n",
    "print(classification_report(y_val, pred_clf_val))"
   ]
  },
  {
   "cell_type": "code",
   "execution_count": 243,
   "metadata": {},
   "outputs": [
    {
     "data": {
      "image/png": "[encoded data removed]",
      "text/plain": [
       "<Figure size 640x480 with 2 Axes>"
      ]
     },
     "metadata": {},
     "output_type": "display_data"
    }
   ],
   "source": [
    "# plot confusion matrix\n",
    "fig, ax = plt.subplots()\n",
    "\n",
    "fig.suptitle(\"CLF Validation Confusion Matrix \")\n",
    "\n",
    "plot_confusion_matrix(clf, X_val_f, y_val, ax=ax, cmap=\"plasma\");"
   ]
  },
  {
   "cell_type": "markdown",
   "metadata": {},
   "source": [
    "## Pre-process Entire Training Set for Final Model"
   ]
  },
  {
   "cell_type": "code",
   "execution_count": 244,
   "metadata": {},
   "outputs": [
    {
     "data": {
      "text/plain": [
       "(3019, 14)"
      ]
     },
     "execution_count": 244,
     "metadata": {},
     "output_type": "execute_result"
    }
   ],
   "source": [
    "# isolate numerical columns\n",
    "X_train_num = X_train.select_dtypes(exclude='object')\n",
    "X_train_num.shape"
   ]
  },
  {
   "cell_type": "code",
   "execution_count": 245,
   "metadata": {},
   "outputs": [
    {
     "data": {
      "text/plain": [
       "(3019, 14)"
      ]
     },
     "execution_count": 245,
     "metadata": {},
     "output_type": "execute_result"
    }
   ],
   "source": [
    "# scale numerical data\n",
    "ss_f = StandardScaler()\n",
    "\n",
    "X_train_sc = pd.DataFrame(ss_f.fit_transform(X_train_num), index= X_train_num.index, columns= X_train_num.columns)\n",
    "X_train_sc.shape"
   ]
  },
  {
   "cell_type": "code",
   "execution_count": 246,
   "metadata": {},
   "outputs": [
    {
     "data": {
      "text/plain": [
       "(3019, 21)"
      ]
     },
     "execution_count": 246,
     "metadata": {},
     "output_type": "execute_result"
    }
   ],
   "source": [
    "# one hot encode\n",
    "ohe_f = OneHotEncoder(sparse= False, handle_unknown='ignore')\n",
    "\n",
    "X_train_cat = X_train.select_dtypes(include= 'object')\n",
    "\n",
    "#fit transform\n",
    "X_train_oh = pd.DataFrame(ohe_f.fit_transform(X_train_cat), index= X_train_cat.index, columns=ohe_f.get_feature_names(X_train_cat.columns))\n",
    "X_train_oh.shape"
   ]
  },
  {
   "cell_type": "code",
   "execution_count": 247,
   "metadata": {},
   "outputs": [
    {
     "data": {
      "text/plain": [
       "(3019, 35)"
      ]
     },
     "execution_count": 247,
     "metadata": {},
     "output_type": "execute_result"
    }
   ],
   "source": [
    "# merge databases\n",
    "X_train_f = pd.merge(X_train_sc, X_train_oh, left_index=True, right_index=True)\n",
    "X_train_f.shape"
   ]
  },
  {
   "cell_type": "code",
   "execution_count": 248,
   "metadata": {},
   "outputs": [],
   "source": [
    "# smote\n",
    "sm_f = SMOTE()\n",
    "\n",
    "X_train_sm, y_train_sm = smote.fit_sample(X_train_f, y_train)"
   ]
  },
  {
   "cell_type": "markdown",
   "metadata": {},
   "source": [
    "## Pre-processing Test Data for Final Model"
   ]
  },
  {
   "cell_type": "code",
   "execution_count": 249,
   "metadata": {},
   "outputs": [
    {
     "data": {
      "text/plain": [
       "(755, 14)"
      ]
     },
     "execution_count": 249,
     "metadata": {},
     "output_type": "execute_result"
    }
   ],
   "source": [
    "# isolate numerical columns\n",
    "X_test_num = X_test.select_dtypes(exclude='object')\n",
    "\n",
    "X_test_num.shape"
   ]
  },
  {
   "cell_type": "code",
   "execution_count": 250,
   "metadata": {},
   "outputs": [
    {
     "data": {
      "text/plain": [
       "(755, 14)"
      ]
     },
     "execution_count": 250,
     "metadata": {},
     "output_type": "execute_result"
    }
   ],
   "source": [
    "# scale numerical data\n",
    "X_test_sc = pd.DataFrame(ss_f.transform(X_test_num), index= X_test_num.index, columns= X_test_num.columns)\n",
    "\n",
    "X_test_sc.shape"
   ]
  },
  {
   "cell_type": "code",
   "execution_count": 251,
   "metadata": {},
   "outputs": [],
   "source": [
    "# one hot encode\n",
    "\n",
    "X_test_cat = X_test.select_dtypes(include= 'object')\n",
    "\n",
    "X_test_oh = pd.DataFrame(ohe_f.transform(X_test_cat), index= X_test_cat.index, columns=ohe_f.get_feature_names(X_test_cat.columns))"
   ]
  },
  {
   "cell_type": "code",
   "execution_count": 252,
   "metadata": {},
   "outputs": [
    {
     "data": {
      "text/plain": [
       "(755, 35)"
      ]
     },
     "execution_count": 252,
     "metadata": {},
     "output_type": "execute_result"
    }
   ],
   "source": [
    "# merge databases\n",
    "X_test_f = pd.merge(X_test_sc, X_test_oh, left_index=True, right_index=True)\n",
    "X_test_f.shape"
   ]
  },
  {
   "cell_type": "code",
   "execution_count": 253,
   "metadata": {},
   "outputs": [
    {
     "data": {
      "text/html": [
       "<div>\n",
       "<style scoped>\n",
       "    .dataframe tbody tr th:only-of-type {\n",
       "        vertical-align: middle;\n",
       "    }\n",
       "\n",
       "    .dataframe tbody tr th {\n",
       "        vertical-align: top;\n",
       "    }\n",
       "\n",
       "    .dataframe thead th {\n",
       "        text-align: right;\n",
       "    }\n",
       "</style>\n",
       "<table border=\"1\" class=\"dataframe\">\n",
       "  <thead>\n",
       "    <tr style=\"text-align: right;\">\n",
       "      <th></th>\n",
       "      <th>CustomerID</th>\n",
       "      <th>Tenure</th>\n",
       "      <th>CityTier</th>\n",
       "      <th>WarehouseToHome</th>\n",
       "      <th>HourSpendOnApp</th>\n",
       "      <th>NumberOfDeviceRegistered</th>\n",
       "      <th>SatisfactionScore</th>\n",
       "      <th>NumberOfAddress</th>\n",
       "      <th>Complain</th>\n",
       "      <th>OrderAmountHikeFromlastYear</th>\n",
       "      <th>...</th>\n",
       "      <th>Gender_Male</th>\n",
       "      <th>PreferedOrderCat_Fashion</th>\n",
       "      <th>PreferedOrderCat_Grocery</th>\n",
       "      <th>PreferedOrderCat_Laptop &amp; Accessory</th>\n",
       "      <th>PreferedOrderCat_Mobile</th>\n",
       "      <th>PreferedOrderCat_Mobile Phone</th>\n",
       "      <th>PreferedOrderCat_Others</th>\n",
       "      <th>MaritalStatus_Divorced</th>\n",
       "      <th>MaritalStatus_Married</th>\n",
       "      <th>MaritalStatus_Single</th>\n",
       "    </tr>\n",
       "  </thead>\n",
       "  <tbody>\n",
       "    <tr>\n",
       "      <th>178</th>\n",
       "      <td>-1.789099</td>\n",
       "      <td>-0.610433</td>\n",
       "      <td>1.391318</td>\n",
       "      <td>-0.329268</td>\n",
       "      <td>0.015262</td>\n",
       "      <td>-1.720102</td>\n",
       "      <td>-0.751625</td>\n",
       "      <td>0.292397</td>\n",
       "      <td>-0.622421</td>\n",
       "      <td>-1.307272</td>\n",
       "      <td>...</td>\n",
       "      <td>1.0</td>\n",
       "      <td>0.0</td>\n",
       "      <td>0.0</td>\n",
       "      <td>1.0</td>\n",
       "      <td>0.0</td>\n",
       "      <td>0.0</td>\n",
       "      <td>0.0</td>\n",
       "      <td>1.0</td>\n",
       "      <td>0.0</td>\n",
       "      <td>0.0</td>\n",
       "    </tr>\n",
       "    <tr>\n",
       "      <th>5627</th>\n",
       "      <td>1.622132</td>\n",
       "      <td>-0.998492</td>\n",
       "      <td>-0.749008</td>\n",
       "      <td>-0.565051</td>\n",
       "      <td>0.015262</td>\n",
       "      <td>-1.720102</td>\n",
       "      <td>0.688195</td>\n",
       "      <td>-0.481942</td>\n",
       "      <td>1.606629</td>\n",
       "      <td>1.447425</td>\n",
       "      <td>...</td>\n",
       "      <td>1.0</td>\n",
       "      <td>0.0</td>\n",
       "      <td>0.0</td>\n",
       "      <td>1.0</td>\n",
       "      <td>0.0</td>\n",
       "      <td>0.0</td>\n",
       "      <td>0.0</td>\n",
       "      <td>0.0</td>\n",
       "      <td>1.0</td>\n",
       "      <td>0.0</td>\n",
       "    </tr>\n",
       "    <tr>\n",
       "      <th>4136</th>\n",
       "      <td>0.688723</td>\n",
       "      <td>-0.093020</td>\n",
       "      <td>1.391318</td>\n",
       "      <td>2.264342</td>\n",
       "      <td>1.411490</td>\n",
       "      <td>1.197853</td>\n",
       "      <td>-0.031715</td>\n",
       "      <td>-0.481942</td>\n",
       "      <td>-0.622421</td>\n",
       "      <td>1.722895</td>\n",
       "      <td>...</td>\n",
       "      <td>0.0</td>\n",
       "      <td>0.0</td>\n",
       "      <td>0.0</td>\n",
       "      <td>1.0</td>\n",
       "      <td>0.0</td>\n",
       "      <td>0.0</td>\n",
       "      <td>0.0</td>\n",
       "      <td>0.0</td>\n",
       "      <td>1.0</td>\n",
       "      <td>0.0</td>\n",
       "    </tr>\n",
       "    <tr>\n",
       "      <th>2348</th>\n",
       "      <td>-0.430617</td>\n",
       "      <td>-1.127846</td>\n",
       "      <td>-0.749008</td>\n",
       "      <td>-1.036616</td>\n",
       "      <td>-1.380966</td>\n",
       "      <td>-0.747450</td>\n",
       "      <td>-1.471536</td>\n",
       "      <td>0.292397</td>\n",
       "      <td>-0.622421</td>\n",
       "      <td>-1.307272</td>\n",
       "      <td>...</td>\n",
       "      <td>1.0</td>\n",
       "      <td>0.0</td>\n",
       "      <td>0.0</td>\n",
       "      <td>0.0</td>\n",
       "      <td>1.0</td>\n",
       "      <td>0.0</td>\n",
       "      <td>0.0</td>\n",
       "      <td>0.0</td>\n",
       "      <td>1.0</td>\n",
       "      <td>0.0</td>\n",
       "    </tr>\n",
       "    <tr>\n",
       "      <th>642</th>\n",
       "      <td>-1.498622</td>\n",
       "      <td>0.165687</td>\n",
       "      <td>-0.749008</td>\n",
       "      <td>-0.800834</td>\n",
       "      <td>-1.380966</td>\n",
       "      <td>-0.747450</td>\n",
       "      <td>0.688195</td>\n",
       "      <td>-0.094772</td>\n",
       "      <td>-0.622421</td>\n",
       "      <td>-0.205393</td>\n",
       "      <td>...</td>\n",
       "      <td>0.0</td>\n",
       "      <td>0.0</td>\n",
       "      <td>0.0</td>\n",
       "      <td>1.0</td>\n",
       "      <td>0.0</td>\n",
       "      <td>0.0</td>\n",
       "      <td>0.0</td>\n",
       "      <td>0.0</td>\n",
       "      <td>0.0</td>\n",
       "      <td>1.0</td>\n",
       "    </tr>\n",
       "  </tbody>\n",
       "</table>\n",
       "<p>5 rows × 35 columns</p>\n",
       "</div>"
      ],
      "text/plain": [
       "      CustomerID    Tenure  CityTier  WarehouseToHome  HourSpendOnApp  \\\n",
       "178    -1.789099 -0.610433  1.391318        -0.329268        0.015262   \n",
       "5627    1.622132 -0.998492 -0.749008        -0.565051        0.015262   \n",
       "4136    0.688723 -0.093020  1.391318         2.264342        1.411490   \n",
       "2348   -0.430617 -1.127846 -0.749008        -1.036616       -1.380966   \n",
       "642    -1.498622  0.165687 -0.749008        -0.800834       -1.380966   \n",
       "\n",
       "      NumberOfDeviceRegistered  SatisfactionScore  NumberOfAddress  Complain  \\\n",
       "178                  -1.720102          -0.751625         0.292397 -0.622421   \n",
       "5627                 -1.720102           0.688195        -0.481942  1.606629   \n",
       "4136                  1.197853          -0.031715        -0.481942 -0.622421   \n",
       "2348                 -0.747450          -1.471536         0.292397 -0.622421   \n",
       "642                  -0.747450           0.688195        -0.094772 -0.622421   \n",
       "\n",
       "      OrderAmountHikeFromlastYear  ...  Gender_Male  PreferedOrderCat_Fashion  \\\n",
       "178                     -1.307272  ...          1.0                       0.0   \n",
       "5627                     1.447425  ...          1.0                       0.0   \n",
       "4136                     1.722895  ...          0.0                       0.0   \n",
       "2348                    -1.307272  ...          1.0                       0.0   \n",
       "642                     -0.205393  ...          0.0                       0.0   \n",
       "\n",
       "      PreferedOrderCat_Grocery  PreferedOrderCat_Laptop & Accessory  \\\n",
       "178                        0.0                                  1.0   \n",
       "5627                       0.0                                  1.0   \n",
       "4136                       0.0                                  1.0   \n",
       "2348                       0.0                                  0.0   \n",
       "642                        0.0                                  1.0   \n",
       "\n",
       "      PreferedOrderCat_Mobile  PreferedOrderCat_Mobile Phone  \\\n",
       "178                       0.0                            0.0   \n",
       "5627                      0.0                            0.0   \n",
       "4136                      0.0                            0.0   \n",
       "2348                      1.0                            0.0   \n",
       "642                       0.0                            0.0   \n",
       "\n",
       "      PreferedOrderCat_Others  MaritalStatus_Divorced  MaritalStatus_Married  \\\n",
       "178                       0.0                     1.0                    0.0   \n",
       "5627                      0.0                     0.0                    1.0   \n",
       "4136                      0.0                     0.0                    1.0   \n",
       "2348                      0.0                     0.0                    1.0   \n",
       "642                       0.0                     0.0                    0.0   \n",
       "\n",
       "      MaritalStatus_Single  \n",
       "178                    0.0  \n",
       "5627                   0.0  \n",
       "4136                   0.0  \n",
       "2348                   0.0  \n",
       "642                    1.0  \n",
       "\n",
       "[5 rows x 35 columns]"
      ]
     },
     "execution_count": 253,
     "metadata": {},
     "output_type": "execute_result"
    }
   ],
   "source": [
    "X_test_f.head()"
   ]
  },
  {
   "cell_type": "markdown",
   "metadata": {},
   "source": [
    "## Re-fit Final Model to Entire Training Set"
   ]
  },
  {
   "cell_type": "code",
   "execution_count": 254,
   "metadata": {},
   "outputs": [
    {
     "data": {
      "text/plain": [
       "0.9995991983967936"
      ]
     },
     "execution_count": 254,
     "metadata": {},
     "output_type": "execute_result"
    }
   ],
   "source": [
    "# fit model\n",
    "clf = clf.fit(X_train_sm, y_train_sm)\n",
    "# check accuracy\n",
    "clf.score(X_train_sm, y_train_sm)"
   ]
  },
  {
   "cell_type": "code",
   "execution_count": 255,
   "metadata": {},
   "outputs": [
    {
     "data": {
      "image/png": "[encoded data removed]",
      "text/plain": [
       "<Figure size 640x480 with 2 Axes>"
      ]
     },
     "metadata": {},
     "output_type": "display_data"
    }
   ],
   "source": [
    "# plot confusion matrix\n",
    "fig, ax = plt.subplots()\n",
    "\n",
    "fig.suptitle(\"CLF Entire Training Set Confusion Matrix \")\n",
    "\n",
    "plot_confusion_matrix(clf, X_train_sm, y_train_sm, ax=ax, cmap=\"plasma\");"
   ]
  },
  {
   "cell_type": "markdown",
   "metadata": {},
   "source": [
    "## Run Final Model on Test Data"
   ]
  },
  {
   "cell_type": "code",
   "execution_count": 256,
   "metadata": {},
   "outputs": [
    {
     "data": {
      "text/plain": [
       "0.9576158940397351"
      ]
     },
     "execution_count": 256,
     "metadata": {},
     "output_type": "execute_result"
    }
   ],
   "source": [
    "clf.score(X_test_f, y_test)"
   ]
  },
  {
   "cell_type": "code",
   "execution_count": 257,
   "metadata": {},
   "outputs": [
    {
     "name": "stdout",
     "output_type": "stream",
     "text": [
      "[[638  10]\n",
      " [ 22  85]]\n",
      "              precision    recall  f1-score   support\n",
      "\n",
      "           0       0.97      0.98      0.98       648\n",
      "           1       0.89      0.79      0.84       107\n",
      "\n",
      "    accuracy                           0.96       755\n",
      "   macro avg       0.93      0.89      0.91       755\n",
      "weighted avg       0.96      0.96      0.96       755\n",
      "\n"
     ]
    }
   ],
   "source": [
    "# set predictions\n",
    "pred_clf_test = clf.predict(X_test_f)\n",
    "\n",
    "# confusion matrix and classification report\n",
    "print(confusion_matrix(y_test, pred_clf_test))\n",
    "print(classification_report(y_test, pred_clf_test))"
   ]
  },
  {
   "cell_type": "code",
   "execution_count": 258,
   "metadata": {},
   "outputs": [
    {
     "data": {
      "image/png": "[encoded data removed]",
      "text/plain": [
       "<Figure size 640x480 with 2 Axes>"
      ]
     },
     "metadata": {},
     "output_type": "display_data"
    }
   ],
   "source": [
    "# plot confusion matrix\n",
    "fig, ax = plt.subplots()\n",
    "\n",
    "fig.suptitle(\"Stacked Model Test Data Confusion Matrix \")\n",
    "\n",
    "plot_confusion_matrix(clf, X_test_f, y_test, ax=ax, cmap=\"plasma\");\n",
    "#plt.savefig('../reports/figures/stacked.png', transparent=True);"
   ]
  },
  {
   "cell_type": "markdown",
   "metadata": {},
   "source": [
    "## Final Model Results"
   ]
  },
  {
   "cell_type": "markdown",
   "metadata": {},
   "source": [
    "The model’s accuracy on unseen test data is .96 with an F-1 score of 98%. The model correctly predicts that 638 customers will not churn, and it correctly predicts that 85 customers will churn. It incorrectly predicts that 10 customers will churn, when they actually stay. And it incorrectly predicts that 22 customers will stay, when they actually leave. Overall the model is effective at predicting customer churn although improvements can be made."
   ]
  },
  {
   "cell_type": "markdown",
   "metadata": {},
   "source": [
    "# Exploratory Data Analysis and Visualizations"
   ]
  },
  {
   "cell_type": "code",
   "execution_count": 290,
   "metadata": {},
   "outputs": [
    {
     "data": {
      "text/plain": [
       "CustomerID                     0.031617\n",
       "Churn                          1.000000\n",
       "CityTier                       0.073858\n",
       "Warehouse_To_Home              0.087318\n",
       "HourSpendOnApp                 0.060845\n",
       "Number_of_Devices              0.149041\n",
       "Satisfaction_Score             0.095759\n",
       "NumberOfAddress                0.076336\n",
       "Complain                       0.238137\n",
       "OrderAmountHikeFromlastYear    0.017193\n",
       "CouponUsed                     0.010982\n",
       "OrderCount                    -0.001962\n",
       "Days_Since_Last_Order         -0.139254\n",
       "CashbackAmount                -0.058866\n",
       "Name: Churn, dtype: float64"
      ]
     },
     "execution_count": 290,
     "metadata": {},
     "output_type": "execute_result"
    }
   ],
   "source": [
    "# feature correlations target \"Churn\"\n",
    "corr = df.corr().Churn\n",
    "corr"
   ]
  },
  {
   "cell_type": "code",
   "execution_count": 77,
   "metadata": {},
   "outputs": [
    {
     "name": "stdout",
     "output_type": "stream",
     "text": [
      "['Tenure', 'Complain', 'Number_Of_Devices']\n",
      "[34.001288379447104, 23.813730782624013, 14.904124329206853]\n"
     ]
    },
    {
     "data": {
      "image/png": "[encoded data removed]",
      "text/plain": [
       "<Figure size 700x600 with 1 Axes>"
      ]
     },
     "metadata": {},
     "output_type": "display_data"
    }
   ],
   "source": [
    "# function to plot feature correlations\n",
    "def create_plot_of_feature_correlations(coeff_dict, top_num=10, figsize=(7, 6), title='Feature Correlations', xlabel='Feature', ylabel='Correlation Percentage', append_title='', prepend_title='', width=0.8, xrot=0, bar_colors=None, percent=None, save_path=None):\n",
    "    ''' \n",
    "    Inputs: \n",
    "    \n",
    "    model: A trained ensemble model instance\n",
    "    X: a dataframe of the features used to train the model\n",
    "    '''\n",
    "    dict_keys = [key for key in coeff_dict.keys()]\n",
    "    dict_values = [abs(value) for value in coeff_dict.values()]\n",
    "    \n",
    "    coeff_dict = {dict_keys[x]: dict_values[x] for x in range(len(dict_values))}\n",
    "    coeff_dict = dict(list(coeff_dict.items())[:])\n",
    "    features_and_importances = zip(coeff_dict.keys(), coeff_dict.values())\n",
    "    features_and_importances = sorted(features_and_importances, key = lambda x: x[1], reverse=True)\n",
    "    \n",
    "    features = [i[0].title() for i in features_and_importances[1:top_num+1]]\n",
    "    print(features)\n",
    "    importances = [abs(i[1])*100 for i in features_and_importances[1:top_num+1]]\n",
    "    print(importances)\n",
    "    plt.rcdefaults()\n",
    "    fig, ax = plt.subplots(figsize=figsize)\n",
    "#     width = .35\n",
    "    plt.bar(features, importances, width=width, color=bar_colors)\n",
    "    if percent:\n",
    "        ax.yaxis.set_major_formatter(PercentFormatter())\n",
    "#     plt.gca().invert_yaxis()\n",
    "    title = ' '.join([prepend_title, title, append_title])\n",
    "    plt.title(title)\n",
    "    plt.xlabel('Feature', fontsize=13)\n",
    "    plt.ylabel(ylabel, fontsize=13)\n",
    "    plt.xticks(rotation=xrot)\n",
    "    plt.axis('tight')\n",
    "    plt.tight_layout()\n",
    "    if save_path:\n",
    "        plt.savefig(save_path, transparent=True)\n",
    "min_percent = 0.12\n",
    "corr = df.corr().Churn\n",
    "corr=dict(corr)\n",
    "create_plot_of_feature_correlations(corr, title='Feature Correlelations to Churn', top_num=3, width=0.5, percent=True)\n",
    "plt.xticks(rotation=-45);\n",
    "#plt.savefig('../reports/figures/corrs.png', transparent=True);"
   ]
  },
  {
   "cell_type": "code",
   "execution_count": 300,
   "metadata": {},
   "outputs": [
    {
     "name": "stderr",
     "output_type": "stream",
     "text": [
      "/Applications/anaconda3/lib/python3.7/site-packages/ipykernel_launcher.py:16: MatplotlibDeprecationWarning: Unrecognized location 'top right'. Falling back on 'best'; valid locations are\n",
      "\tbest\n",
      "\tupper right\n",
      "\tupper left\n",
      "\tlower left\n",
      "\tlower right\n",
      "\tright\n",
      "\tcenter left\n",
      "\tcenter right\n",
      "\tlower center\n",
      "\tupper center\n",
      "\tcenter\n",
      "This will raise an exception in 3.3.\n",
      "  app.launch_new_instance()\n"
     ]
    },
    {
     "data": {
      "image/png": "[encoded data removed]",
      "text/plain": [
       "<Figure size 1200x700 with 1 Axes>"
      ]
     },
     "metadata": {},
     "output_type": "display_data"
    }
   ],
   "source": [
    "contract_churn = df.groupby(\n",
    "['Tenure','Churn']).size().unstack()\n",
    "contract_churn.rename(\n",
    "columns={0:'No', 1:'Yes'}, inplace=True)\n",
    "#colors  = ['#ec838a','#9b9c9a']\n",
    "ax = (contract_churn.T*100.0 / contract_churn.T.sum()).T.plot(kind='bar',width = 0.3,stacked = True,rot = 0,figsize = (12,7))\n",
    "plt.ylabel('Proportion of Customers\\n',\n",
    "horizontalalignment=\"center\",fontstyle = \"normal\", \n",
    "fontsize = \"large\", fontfamily = \"sans-serif\")\n",
    "plt.xlabel('Tenure\\n',horizontalalignment=\"center\",\n",
    "fontstyle = \"normal\", fontsize = \"large\", \n",
    "fontfamily = \"sans-serif\")\n",
    "plt.title('Churn Rate by Tenure \\n',\n",
    "horizontalalignment=\"center\", fontstyle = \"normal\", \n",
    "fontsize = \"22\", fontfamily = \"sans-serif\")\n",
    "plt.legend(loc='top right', fontsize = \"medium\")\n",
    "plt.xticks(rotation=0, horizontalalignment=\"center\")\n",
    "plt.yticks(rotation=0, horizontalalignment=\"right\")\n",
    "#ax.yaxis.set_major_formatter(mtick.PercentFormatter())\n",
    "for p in ax.patches:\n",
    "    width, height = p.get_width(), p.get_height()\n",
    "    x, y = p.get_xy() \n",
    "    ax.text(x+width/2, \n",
    "            y+height/2, \n",
    "            '{:.1f}%'.format(height), \n",
    "            horizontalalignment='center', \n",
    "            verticalalignment='center')\n",
    "ax.autoscale(enable=False, axis='both', tight=False)"
   ]
  },
  {
   "cell_type": "code",
   "execution_count": 106,
   "metadata": {},
   "outputs": [
    {
     "name": "stderr",
     "output_type": "stream",
     "text": [
      "/Applications/anaconda3/lib/python3.7/site-packages/ipykernel_launcher.py:16: MatplotlibDeprecationWarning: Unrecognized location 'top right'. Falling back on 'best'; valid locations are\n",
      "\tbest\n",
      "\tupper right\n",
      "\tupper left\n",
      "\tlower left\n",
      "\tlower right\n",
      "\tright\n",
      "\tcenter left\n",
      "\tcenter right\n",
      "\tlower center\n",
      "\tupper center\n",
      "\tcenter\n",
      "This will raise an exception in 3.3.\n",
      "  app.launch_new_instance()\n"
     ]
    },
    {
     "data": {
      "image/png": "[encoded data removed]",
      "text/plain": [
       "<Figure size 1200x700 with 1 Axes>"
      ]
     },
     "metadata": {},
     "output_type": "display_data"
    }
   ],
   "source": [
    "contract_churn = df.groupby(\n",
    "['Complain','Churn']).size().unstack()\n",
    "contract_churn.rename(\n",
    "columns={0:'No', 1:'Yes'}, inplace=True)\n",
    "#colors  = ['#ec838a','#9b9c9a']\n",
    "ax = (contract_churn.T*100.0 / contract_churn.T.sum()).T.plot(kind='bar',width = 0.3,stacked = True,rot = 0,figsize = (12,7))\n",
    "plt.ylabel('Percentage of Customers\\n',\n",
    "horizontalalignment=\"center\",fontstyle = \"normal\", \n",
    "fontsize = \"large\", fontfamily = \"sans-serif\")\n",
    "plt.xlabel('Complain\\n',horizontalalignment=\"center\",\n",
    "fontstyle = \"normal\", fontsize = \"large\", \n",
    "fontfamily = \"sans-serif\")\n",
    "plt.title('Churn Rate by Complaints \\n',\n",
    "horizontalalignment=\"center\", fontstyle = \"normal\", \n",
    "fontsize = \"22\", fontfamily = \"sans-serif\")\n",
    "plt.legend(loc='top right', fontsize = \"medium\")\n",
    "plt.xticks(rotation=0, horizontalalignment=\"center\")\n",
    "plt.yticks(rotation=0, horizontalalignment=\"right\")\n",
    "#ax.yaxis.set_major_formatter(mtick.PercentFormatter())\n",
    "for p in ax.patches:\n",
    "    width, height = p.get_width(), p.get_height()\n",
    "    x, y = p.get_xy() \n",
    "    ax.text(x+width/2, \n",
    "            y+height/2, \n",
    "            '{:.1f}%'.format(height), \n",
    "            horizontalalignment='center', \n",
    "            verticalalignment='center')\n",
    "ax.autoscale(enable=False, axis='both', tight=False)"
   ]
  },
  {
   "cell_type": "code",
   "execution_count": 301,
   "metadata": {},
   "outputs": [
    {
     "name": "stderr",
     "output_type": "stream",
     "text": [
      "/Applications/anaconda3/lib/python3.7/site-packages/ipykernel_launcher.py:16: MatplotlibDeprecationWarning: Unrecognized location 'top right'. Falling back on 'best'; valid locations are\n",
      "\tbest\n",
      "\tupper right\n",
      "\tupper left\n",
      "\tlower left\n",
      "\tlower right\n",
      "\tright\n",
      "\tcenter left\n",
      "\tcenter right\n",
      "\tlower center\n",
      "\tupper center\n",
      "\tcenter\n",
      "This will raise an exception in 3.3.\n",
      "  app.launch_new_instance()\n"
     ]
    },
    {
     "data": {
      "image/png": "[encoded data removed]",
      "text/plain": [
       "<Figure size 1200x700 with 1 Axes>"
      ]
     },
     "metadata": {},
     "output_type": "display_data"
    }
   ],
   "source": [
    "contract_churn = df.groupby(\n",
    "['Number_of_Devices','Churn']).size().unstack()\n",
    "contract_churn.rename(\n",
    "columns={0:'No', 1:'Yes'}, inplace=True)\n",
    "#colors  = ['#ec838a','#9b9c9a']\n",
    "ax = (contract_churn.T*100.0 / contract_churn.T.sum()).T.plot(kind='bar',width = 0.3,stacked = True,rot = 0,figsize = (12,7))\n",
    "plt.ylabel('Proportion of Customers\\n',\n",
    "horizontalalignment=\"center\",fontstyle = \"normal\", \n",
    "fontsize = \"large\", fontfamily = \"sans-serif\")\n",
    "plt.xlabel('Tenure\\n',horizontalalignment=\"center\",\n",
    "fontstyle = \"normal\", fontsize = \"large\", \n",
    "fontfamily = \"sans-serif\")\n",
    "plt.title('Churn Rate by Number_of_Devices \\n',\n",
    "horizontalalignment=\"center\", fontstyle = \"normal\", \n",
    "fontsize = \"22\", fontfamily = \"sans-serif\")\n",
    "plt.legend(loc='top right', fontsize = \"medium\")\n",
    "plt.xticks(rotation=0, horizontalalignment=\"center\")\n",
    "plt.yticks(rotation=0, horizontalalignment=\"right\")\n",
    "#ax.yaxis.set_major_formatter(mtick.PercentFormatter())\n",
    "for p in ax.patches:\n",
    "    width, height = p.get_width(), p.get_height()\n",
    "    x, y = p.get_xy() \n",
    "    ax.text(x+width/2, \n",
    "            y+height/2, \n",
    "            '{:.1f}%'.format(height), \n",
    "            horizontalalignment='center', \n",
    "            verticalalignment='center')\n",
    "ax.autoscale(enable=False, axis='both', tight=False)"
   ]
  },
  {
   "cell_type": "code",
   "execution_count": 84,
   "metadata": {},
   "outputs": [
    {
     "data": {
      "text/plain": [
       "array([0.02601658, 0.30382863, 0.01459245, 0.04891697, 0.01805895,\n",
       "       0.03855419, 0.0387697 , 0.0520716 , 0.03817476, 0.03061996,\n",
       "       0.02182513, 0.02615329, 0.0510958 , 0.03705279, 0.02655975,\n",
       "       0.0112091 , 0.01140377, 0.00036094, 0.01742571, 0.01796247,\n",
       "       0.01556061, 0.00685697, 0.01628087, 0.        , 0.03235651,\n",
       "       0.00134285, 0.01821723, 0.00041163, 0.04327399, 0.03504678])"
      ]
     },
     "execution_count": 84,
     "metadata": {},
     "output_type": "execute_result"
    }
   ],
   "source": [
    "# check feature importances from Random Forest model\n",
    "rfm2.feature_importances_"
   ]
  },
  {
   "cell_type": "code",
   "execution_count": 85,
   "metadata": {},
   "outputs": [
    {
     "data": {
      "text/plain": [
       "[(0.30382863128013116, 'Tenure'),\n",
       " (0.052071603463963535, 'NumberOfAddress'),\n",
       " (0.0510958035920222, 'Days_Since_Last_Order'),\n",
       " (0.048916969849916295, 'Warehouse_To_Home'),\n",
       " (0.04327399365629977, 'PreferedOrderCat_Laptop & Accessory'),\n",
       " (0.038769702694250466, 'Satisfaction_Score'),\n",
       " (0.03855419420057083, 'Number_of_Devices'),\n",
       " (0.0381747628822983, 'Complain'),\n",
       " (0.037052789063976944, 'CashbackAmount'),\n",
       " (0.03504677876668298, 'PreferedOrderCat_Mobile'),\n",
       " (0.032356510403064316, 'Gender_Female'),\n",
       " (0.03061995533866879, 'OrderAmountHikeFromlastYear'),\n",
       " (0.02655975077362147, 'PreferredLoginDevice_Computer'),\n",
       " (0.02615328627868742, 'OrderCount'),\n",
       " (0.026016583550194247, 'CustomerID'),\n",
       " (0.02182512854113055, 'CouponUsed'),\n",
       " (0.01821723381256612, 'PreferedOrderCat_Fashion'),\n",
       " (0.018058953870913375, 'HourSpendOnApp'),\n",
       " (0.01796246642935839, 'PreferredPaymentMode_Cash on Delivery'),\n",
       " (0.017425710586349903, 'PreferredPaymentMode_COD'),\n",
       " (0.016280868378623987, 'PreferredPaymentMode_E wallet'),\n",
       " (0.01556061245676594, 'PreferredPaymentMode_Credit Card'),\n",
       " (0.014592445502687602, 'CityTier'),\n",
       " (0.01140377390944453, 'PreferredLoginDevice_Phone'),\n",
       " (0.011209097438430049, 'PreferredLoginDevice_Mobile Phone'),\n",
       " (0.006856970406493545, 'PreferredPaymentMode_Debit Card'),\n",
       " (0.0013428491386474459, 'Gender_Male'),\n",
       " (0.000411634310068866, 'PreferedOrderCat_Grocery'),\n",
       " (0.000360939424170967, 'PreferredPaymentMode_CC'),\n",
       " (0.0, 'PreferredPaymentMode_UPI')]"
      ]
     },
     "execution_count": 85,
     "metadata": {},
     "output_type": "execute_result"
    }
   ],
   "source": [
    "# create list of feature importances \n",
    "importances = list(zip(rfm2.feature_importances_, X_test_f.columns))\n",
    "importances.sort(reverse=True)\n",
    "importances"
   ]
  },
  {
   "cell_type": "code",
   "execution_count": 90,
   "metadata": {},
   "outputs": [],
   "source": [
    "# create dictionary of top 3 feature importances\n",
    "RF_coeff_dict = {'Tenure': 0.30382863128013116,\n",
    " 'Number of Addresses': 0.052071603463963535,\n",
    " 'Days Since Last Order': 0.0510958035920222}"
   ]
  },
  {
   "cell_type": "code",
   "execution_count": 104,
   "metadata": {},
   "outputs": [],
   "source": [
    "# function to plot feature importances\n",
    "def create_plot_of_feature_importances(coeff_dict, top_num=10, title='Model Feature', append_title='Importances', prepend_title=''):\n",
    "    ''' \n",
    "    Inputs: \n",
    "    \n",
    "    model: A trained ensemble model instance\n",
    "    X: a dataframe of the features used to train the model\n",
    "    '''\n",
    "    dict_keys = [key for key in coeff_dict.keys()]\n",
    "    dict_values = [abs(value) for value in coeff_dict.values()]\n",
    "    \n",
    "    coeff_dict = {dict_keys[x]: dict_values[x] for x in range(len(dict_values))}\n",
    "    coeff_dict = dict(list(coeff_dict.items())[:top_num])\n",
    "    features_and_importances = zip(coeff_dict.keys(), coeff_dict.values())\n",
    "    features_and_importances = sorted(features_and_importances, key = lambda x: x[1], reverse=True)\n",
    "    \n",
    "    features = [i[0] for i in features_and_importances]\n",
    "    importances = [abs(i[1]) for i in features_and_importances]\n",
    "    \n",
    "    plt.figure(figsize=(10, 6))\n",
    "    plt.barh(features, importances)\n",
    "    plt.gca().invert_yaxis()\n",
    "    title = ' '.join([prepend_title, title, append_title])\n",
    "    plt.title(title)\n",
    "    plt.xlabel('Importance')\n",
    "    plt.tight_layout()"
   ]
  },
  {
   "cell_type": "code",
   "execution_count": 105,
   "metadata": {},
   "outputs": [
    {
     "data": {
      "image/png": "[encoded data removed]",
      "text/plain": [
       "<Figure size 1000x600 with 1 Axes>"
      ]
     },
     "metadata": {},
     "output_type": "display_data"
    }
   ],
   "source": [
    "# plot feature importances\n",
    "create_plot_of_feature_importances(RF_coeff_dict, prepend_title='')\n",
    "#plt.savefig('../reports/figures/model_feat.png', transparent=True);"
   ]
  },
  {
   "cell_type": "markdown",
   "metadata": {},
   "source": [
    "## Summary"
   ]
  },
  {
   "cell_type": "markdown",
   "metadata": {},
   "source": [
    "By using CRISP - DM tecniques and machine learning algorithms I create a binary classification model with .96% accuracy and an F-1 score of 98%. This model, used alongside an understanding of the business and customer base is helpful in accurately predicting when a customer will churn.\n",
    "\n",
    "My initial data exploration finds the strongest correlation is between customer tenure and churn. Additionally, it identifies customer complaints and number of devices used as highly correlated features with churn.\n",
    "\n",
    "My model feature importances also identifies customer tenure as the top feature importance with number of addresses and days since last order as the second and third most important features. So it is worthwhile for the business to focus on customer tenure as the largest correlated factor in customer churn and incorporate solutions to identify and act early based on tenure. "
   ]
  },
  {
   "cell_type": "code",
   "execution_count": null,
   "metadata": {},
   "outputs": [],
   "source": []
  }
 ],
 "metadata": {
  "kernelspec": {
   "display_name": "Python 3",
   "language": "python",
   "name": "python3"
  },
  "language_info": {
   "codemirror_mode": {
    "name": "ipython",
    "version": 3
   },
   "file_extension": ".py",
   "mimetype": "text/x-python",
   "name": "python",
   "nbconvert_exporter": "python",
   "pygments_lexer": "ipython3",
   "version": "3.7.6"
  }
 },
 "nbformat": 4,
 "nbformat_minor": 4
}
