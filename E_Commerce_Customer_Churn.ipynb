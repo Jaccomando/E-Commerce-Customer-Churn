{
 "cells": [
  {
   "cell_type": "code",
   "execution_count": 3,
   "metadata": {},
   "outputs": [],
   "source": [
    "import pandas as pd\n",
    "import numpy as np\n",
    "\n",
    "import matplotlib.pyplot as plt\n",
    "import seaborn as sns\n",
    "from matplotlib.ticker import PercentFormatter\n",
    "\n",
    "from sklearn.preprocessing import OneHotEncoder, StandardScaler\n",
    "\n",
    "from sklearn.linear_model import LogisticRegression\n",
    "from sklearn import svm\n",
    "from sklearn import tree\n",
    "from sklearn.neighbors import KNeighborsClassifier\n",
    "\n",
    "from sklearn.model_selection import train_test_split, cross_val_score, KFold\n",
    "from sklearn.feature_selection import SelectFromModel\n",
    "\n",
    "from sklearn.model_selection import GridSearchCV\n",
    "from sklearn.ensemble import RandomForestClassifier\n",
    "from sklearn.metrics import f1_score\n",
    "\t\n",
    "from sklearn.metrics import roc_auc_score\n",
    "\n",
    "from sklearn.metrics import plot_confusion_matrix\n",
    "from sklearn.metrics import accuracy_score, confusion_matrix, classification_report\n",
    "\n",
    "\n",
    "from sklearn.utils import resample"
   ]
  },
  {
   "cell_type": "code",
   "execution_count": 4,
   "metadata": {},
   "outputs": [],
   "source": [
    "# load the dataset\n",
    "df = pd.read_csv(\"E_Comm_Table_1.csv\")"
   ]
  },
  {
   "cell_type": "code",
   "execution_count": 5,
   "metadata": {},
   "outputs": [
    {
     "data": {
      "text/html": [
       "<div>\n",
       "<style scoped>\n",
       "    .dataframe tbody tr th:only-of-type {\n",
       "        vertical-align: middle;\n",
       "    }\n",
       "\n",
       "    .dataframe tbody tr th {\n",
       "        vertical-align: top;\n",
       "    }\n",
       "\n",
       "    .dataframe thead th {\n",
       "        text-align: right;\n",
       "    }\n",
       "</style>\n",
       "<table border=\"1\" class=\"dataframe\">\n",
       "  <thead>\n",
       "    <tr style=\"text-align: right;\">\n",
       "      <th></th>\n",
       "      <th>CustomerID</th>\n",
       "      <th>Churn</th>\n",
       "      <th>Tenure</th>\n",
       "      <th>PreferredLoginDevice</th>\n",
       "      <th>CityTier</th>\n",
       "      <th>WarehouseToHome</th>\n",
       "      <th>PreferredPaymentMode</th>\n",
       "      <th>Gender</th>\n",
       "      <th>HourSpendOnApp</th>\n",
       "      <th>NumberOfDeviceRegistered</th>\n",
       "      <th>PreferedOrderCat</th>\n",
       "      <th>SatisfactionScore</th>\n",
       "      <th>MaritalStatus</th>\n",
       "      <th>NumberOfAddress</th>\n",
       "      <th>Complain</th>\n",
       "      <th>OrderAmountHikeFromlastYear</th>\n",
       "      <th>CouponUsed</th>\n",
       "      <th>OrderCount</th>\n",
       "      <th>DaySinceLastOrder</th>\n",
       "      <th>CashbackAmount</th>\n",
       "    </tr>\n",
       "  </thead>\n",
       "  <tbody>\n",
       "    <tr>\n",
       "      <th>0</th>\n",
       "      <td>50001</td>\n",
       "      <td>1</td>\n",
       "      <td>4.0</td>\n",
       "      <td>Mobile Phone</td>\n",
       "      <td>3</td>\n",
       "      <td>6.0</td>\n",
       "      <td>Debit Card</td>\n",
       "      <td>Female</td>\n",
       "      <td>3.0</td>\n",
       "      <td>3</td>\n",
       "      <td>Laptop &amp; Accessory</td>\n",
       "      <td>2</td>\n",
       "      <td>Single</td>\n",
       "      <td>9</td>\n",
       "      <td>1</td>\n",
       "      <td>11.0</td>\n",
       "      <td>1.0</td>\n",
       "      <td>1.0</td>\n",
       "      <td>5.0</td>\n",
       "      <td>160</td>\n",
       "    </tr>\n",
       "    <tr>\n",
       "      <th>1</th>\n",
       "      <td>50002</td>\n",
       "      <td>1</td>\n",
       "      <td>NaN</td>\n",
       "      <td>Phone</td>\n",
       "      <td>1</td>\n",
       "      <td>8.0</td>\n",
       "      <td>UPI</td>\n",
       "      <td>Male</td>\n",
       "      <td>3.0</td>\n",
       "      <td>4</td>\n",
       "      <td>Mobile</td>\n",
       "      <td>3</td>\n",
       "      <td>Single</td>\n",
       "      <td>7</td>\n",
       "      <td>1</td>\n",
       "      <td>15.0</td>\n",
       "      <td>0.0</td>\n",
       "      <td>1.0</td>\n",
       "      <td>0.0</td>\n",
       "      <td>121</td>\n",
       "    </tr>\n",
       "    <tr>\n",
       "      <th>2</th>\n",
       "      <td>50003</td>\n",
       "      <td>1</td>\n",
       "      <td>NaN</td>\n",
       "      <td>Phone</td>\n",
       "      <td>1</td>\n",
       "      <td>30.0</td>\n",
       "      <td>Debit Card</td>\n",
       "      <td>Male</td>\n",
       "      <td>2.0</td>\n",
       "      <td>4</td>\n",
       "      <td>Mobile</td>\n",
       "      <td>3</td>\n",
       "      <td>Single</td>\n",
       "      <td>6</td>\n",
       "      <td>1</td>\n",
       "      <td>14.0</td>\n",
       "      <td>0.0</td>\n",
       "      <td>1.0</td>\n",
       "      <td>3.0</td>\n",
       "      <td>120</td>\n",
       "    </tr>\n",
       "    <tr>\n",
       "      <th>3</th>\n",
       "      <td>50004</td>\n",
       "      <td>1</td>\n",
       "      <td>0.0</td>\n",
       "      <td>Phone</td>\n",
       "      <td>3</td>\n",
       "      <td>15.0</td>\n",
       "      <td>Debit Card</td>\n",
       "      <td>Male</td>\n",
       "      <td>2.0</td>\n",
       "      <td>4</td>\n",
       "      <td>Laptop &amp; Accessory</td>\n",
       "      <td>5</td>\n",
       "      <td>Single</td>\n",
       "      <td>8</td>\n",
       "      <td>0</td>\n",
       "      <td>23.0</td>\n",
       "      <td>0.0</td>\n",
       "      <td>1.0</td>\n",
       "      <td>3.0</td>\n",
       "      <td>134</td>\n",
       "    </tr>\n",
       "    <tr>\n",
       "      <th>4</th>\n",
       "      <td>50005</td>\n",
       "      <td>1</td>\n",
       "      <td>0.0</td>\n",
       "      <td>Phone</td>\n",
       "      <td>1</td>\n",
       "      <td>12.0</td>\n",
       "      <td>CC</td>\n",
       "      <td>Male</td>\n",
       "      <td>NaN</td>\n",
       "      <td>3</td>\n",
       "      <td>Mobile</td>\n",
       "      <td>5</td>\n",
       "      <td>Single</td>\n",
       "      <td>3</td>\n",
       "      <td>0</td>\n",
       "      <td>11.0</td>\n",
       "      <td>1.0</td>\n",
       "      <td>1.0</td>\n",
       "      <td>3.0</td>\n",
       "      <td>130</td>\n",
       "    </tr>\n",
       "  </tbody>\n",
       "</table>\n",
       "</div>"
      ],
      "text/plain": [
       "   CustomerID  Churn  Tenure PreferredLoginDevice  CityTier  WarehouseToHome  \\\n",
       "0       50001      1     4.0         Mobile Phone         3              6.0   \n",
       "1       50002      1     NaN                Phone         1              8.0   \n",
       "2       50003      1     NaN                Phone         1             30.0   \n",
       "3       50004      1     0.0                Phone         3             15.0   \n",
       "4       50005      1     0.0                Phone         1             12.0   \n",
       "\n",
       "  PreferredPaymentMode  Gender  HourSpendOnApp  NumberOfDeviceRegistered  \\\n",
       "0           Debit Card  Female             3.0                         3   \n",
       "1                  UPI    Male             3.0                         4   \n",
       "2           Debit Card    Male             2.0                         4   \n",
       "3           Debit Card    Male             2.0                         4   \n",
       "4                   CC    Male             NaN                         3   \n",
       "\n",
       "     PreferedOrderCat  SatisfactionScore MaritalStatus  NumberOfAddress  \\\n",
       "0  Laptop & Accessory                  2        Single                9   \n",
       "1              Mobile                  3        Single                7   \n",
       "2              Mobile                  3        Single                6   \n",
       "3  Laptop & Accessory                  5        Single                8   \n",
       "4              Mobile                  5        Single                3   \n",
       "\n",
       "   Complain  OrderAmountHikeFromlastYear  CouponUsed  OrderCount  \\\n",
       "0         1                         11.0         1.0         1.0   \n",
       "1         1                         15.0         0.0         1.0   \n",
       "2         1                         14.0         0.0         1.0   \n",
       "3         0                         23.0         0.0         1.0   \n",
       "4         0                         11.0         1.0         1.0   \n",
       "\n",
       "   DaySinceLastOrder  CashbackAmount  \n",
       "0                5.0             160  \n",
       "1                0.0             121  \n",
       "2                3.0             120  \n",
       "3                3.0             134  \n",
       "4                3.0             130  "
      ]
     },
     "execution_count": 5,
     "metadata": {},
     "output_type": "execute_result"
    }
   ],
   "source": [
    "# look at the dataframe\n",
    "df.head()"
   ]
  },
  {
   "cell_type": "code",
   "execution_count": 6,
   "metadata": {},
   "outputs": [
    {
     "data": {
      "text/html": [
       "<div>\n",
       "<style scoped>\n",
       "    .dataframe tbody tr th:only-of-type {\n",
       "        vertical-align: middle;\n",
       "    }\n",
       "\n",
       "    .dataframe tbody tr th {\n",
       "        vertical-align: top;\n",
       "    }\n",
       "\n",
       "    .dataframe thead th {\n",
       "        text-align: right;\n",
       "    }\n",
       "</style>\n",
       "<table border=\"1\" class=\"dataframe\">\n",
       "  <thead>\n",
       "    <tr style=\"text-align: right;\">\n",
       "      <th></th>\n",
       "      <th>CustomerID</th>\n",
       "      <th>Churn</th>\n",
       "      <th>Tenure</th>\n",
       "      <th>CityTier</th>\n",
       "      <th>WarehouseToHome</th>\n",
       "      <th>HourSpendOnApp</th>\n",
       "      <th>NumberOfDeviceRegistered</th>\n",
       "      <th>SatisfactionScore</th>\n",
       "      <th>NumberOfAddress</th>\n",
       "      <th>Complain</th>\n",
       "      <th>OrderAmountHikeFromlastYear</th>\n",
       "      <th>CouponUsed</th>\n",
       "      <th>OrderCount</th>\n",
       "      <th>DaySinceLastOrder</th>\n",
       "      <th>CashbackAmount</th>\n",
       "    </tr>\n",
       "  </thead>\n",
       "  <tbody>\n",
       "    <tr>\n",
       "      <th>count</th>\n",
       "      <td>5630.000000</td>\n",
       "      <td>5630.000000</td>\n",
       "      <td>5366.000000</td>\n",
       "      <td>5630.000000</td>\n",
       "      <td>5379.000000</td>\n",
       "      <td>5375.000000</td>\n",
       "      <td>5630.000000</td>\n",
       "      <td>5630.000000</td>\n",
       "      <td>5630.000000</td>\n",
       "      <td>5630.000000</td>\n",
       "      <td>5365.000000</td>\n",
       "      <td>5374.000000</td>\n",
       "      <td>5372.000000</td>\n",
       "      <td>5323.000000</td>\n",
       "      <td>5630.000000</td>\n",
       "    </tr>\n",
       "    <tr>\n",
       "      <th>mean</th>\n",
       "      <td>52815.500000</td>\n",
       "      <td>0.168384</td>\n",
       "      <td>10.189899</td>\n",
       "      <td>1.654707</td>\n",
       "      <td>15.639896</td>\n",
       "      <td>2.931535</td>\n",
       "      <td>3.688988</td>\n",
       "      <td>3.066785</td>\n",
       "      <td>4.214032</td>\n",
       "      <td>0.284902</td>\n",
       "      <td>15.707922</td>\n",
       "      <td>1.751023</td>\n",
       "      <td>3.008004</td>\n",
       "      <td>4.543491</td>\n",
       "      <td>177.221492</td>\n",
       "    </tr>\n",
       "    <tr>\n",
       "      <th>std</th>\n",
       "      <td>1625.385339</td>\n",
       "      <td>0.374240</td>\n",
       "      <td>8.557241</td>\n",
       "      <td>0.915389</td>\n",
       "      <td>8.531475</td>\n",
       "      <td>0.721926</td>\n",
       "      <td>1.023999</td>\n",
       "      <td>1.380194</td>\n",
       "      <td>2.583586</td>\n",
       "      <td>0.451408</td>\n",
       "      <td>3.675485</td>\n",
       "      <td>1.894621</td>\n",
       "      <td>2.939680</td>\n",
       "      <td>3.654433</td>\n",
       "      <td>49.193869</td>\n",
       "    </tr>\n",
       "    <tr>\n",
       "      <th>min</th>\n",
       "      <td>50001.000000</td>\n",
       "      <td>0.000000</td>\n",
       "      <td>0.000000</td>\n",
       "      <td>1.000000</td>\n",
       "      <td>5.000000</td>\n",
       "      <td>0.000000</td>\n",
       "      <td>1.000000</td>\n",
       "      <td>1.000000</td>\n",
       "      <td>1.000000</td>\n",
       "      <td>0.000000</td>\n",
       "      <td>11.000000</td>\n",
       "      <td>0.000000</td>\n",
       "      <td>1.000000</td>\n",
       "      <td>0.000000</td>\n",
       "      <td>0.000000</td>\n",
       "    </tr>\n",
       "    <tr>\n",
       "      <th>25%</th>\n",
       "      <td>51408.250000</td>\n",
       "      <td>0.000000</td>\n",
       "      <td>2.000000</td>\n",
       "      <td>1.000000</td>\n",
       "      <td>9.000000</td>\n",
       "      <td>2.000000</td>\n",
       "      <td>3.000000</td>\n",
       "      <td>2.000000</td>\n",
       "      <td>2.000000</td>\n",
       "      <td>0.000000</td>\n",
       "      <td>13.000000</td>\n",
       "      <td>1.000000</td>\n",
       "      <td>1.000000</td>\n",
       "      <td>2.000000</td>\n",
       "      <td>146.000000</td>\n",
       "    </tr>\n",
       "    <tr>\n",
       "      <th>50%</th>\n",
       "      <td>52815.500000</td>\n",
       "      <td>0.000000</td>\n",
       "      <td>9.000000</td>\n",
       "      <td>1.000000</td>\n",
       "      <td>14.000000</td>\n",
       "      <td>3.000000</td>\n",
       "      <td>4.000000</td>\n",
       "      <td>3.000000</td>\n",
       "      <td>3.000000</td>\n",
       "      <td>0.000000</td>\n",
       "      <td>15.000000</td>\n",
       "      <td>1.000000</td>\n",
       "      <td>2.000000</td>\n",
       "      <td>3.000000</td>\n",
       "      <td>163.000000</td>\n",
       "    </tr>\n",
       "    <tr>\n",
       "      <th>75%</th>\n",
       "      <td>54222.750000</td>\n",
       "      <td>0.000000</td>\n",
       "      <td>16.000000</td>\n",
       "      <td>3.000000</td>\n",
       "      <td>20.000000</td>\n",
       "      <td>3.000000</td>\n",
       "      <td>4.000000</td>\n",
       "      <td>4.000000</td>\n",
       "      <td>6.000000</td>\n",
       "      <td>1.000000</td>\n",
       "      <td>18.000000</td>\n",
       "      <td>2.000000</td>\n",
       "      <td>3.000000</td>\n",
       "      <td>7.000000</td>\n",
       "      <td>196.000000</td>\n",
       "    </tr>\n",
       "    <tr>\n",
       "      <th>max</th>\n",
       "      <td>55630.000000</td>\n",
       "      <td>1.000000</td>\n",
       "      <td>61.000000</td>\n",
       "      <td>3.000000</td>\n",
       "      <td>127.000000</td>\n",
       "      <td>5.000000</td>\n",
       "      <td>6.000000</td>\n",
       "      <td>5.000000</td>\n",
       "      <td>22.000000</td>\n",
       "      <td>1.000000</td>\n",
       "      <td>26.000000</td>\n",
       "      <td>16.000000</td>\n",
       "      <td>16.000000</td>\n",
       "      <td>46.000000</td>\n",
       "      <td>325.000000</td>\n",
       "    </tr>\n",
       "  </tbody>\n",
       "</table>\n",
       "</div>"
      ],
      "text/plain": [
       "         CustomerID        Churn       Tenure     CityTier  WarehouseToHome  \\\n",
       "count   5630.000000  5630.000000  5366.000000  5630.000000      5379.000000   \n",
       "mean   52815.500000     0.168384    10.189899     1.654707        15.639896   \n",
       "std     1625.385339     0.374240     8.557241     0.915389         8.531475   \n",
       "min    50001.000000     0.000000     0.000000     1.000000         5.000000   \n",
       "25%    51408.250000     0.000000     2.000000     1.000000         9.000000   \n",
       "50%    52815.500000     0.000000     9.000000     1.000000        14.000000   \n",
       "75%    54222.750000     0.000000    16.000000     3.000000        20.000000   \n",
       "max    55630.000000     1.000000    61.000000     3.000000       127.000000   \n",
       "\n",
       "       HourSpendOnApp  NumberOfDeviceRegistered  SatisfactionScore  \\\n",
       "count     5375.000000               5630.000000        5630.000000   \n",
       "mean         2.931535                  3.688988           3.066785   \n",
       "std          0.721926                  1.023999           1.380194   \n",
       "min          0.000000                  1.000000           1.000000   \n",
       "25%          2.000000                  3.000000           2.000000   \n",
       "50%          3.000000                  4.000000           3.000000   \n",
       "75%          3.000000                  4.000000           4.000000   \n",
       "max          5.000000                  6.000000           5.000000   \n",
       "\n",
       "       NumberOfAddress     Complain  OrderAmountHikeFromlastYear   CouponUsed  \\\n",
       "count      5630.000000  5630.000000                  5365.000000  5374.000000   \n",
       "mean          4.214032     0.284902                    15.707922     1.751023   \n",
       "std           2.583586     0.451408                     3.675485     1.894621   \n",
       "min           1.000000     0.000000                    11.000000     0.000000   \n",
       "25%           2.000000     0.000000                    13.000000     1.000000   \n",
       "50%           3.000000     0.000000                    15.000000     1.000000   \n",
       "75%           6.000000     1.000000                    18.000000     2.000000   \n",
       "max          22.000000     1.000000                    26.000000    16.000000   \n",
       "\n",
       "        OrderCount  DaySinceLastOrder  CashbackAmount  \n",
       "count  5372.000000        5323.000000     5630.000000  \n",
       "mean      3.008004           4.543491      177.221492  \n",
       "std       2.939680           3.654433       49.193869  \n",
       "min       1.000000           0.000000        0.000000  \n",
       "25%       1.000000           2.000000      146.000000  \n",
       "50%       2.000000           3.000000      163.000000  \n",
       "75%       3.000000           7.000000      196.000000  \n",
       "max      16.000000          46.000000      325.000000  "
      ]
     },
     "execution_count": 6,
     "metadata": {},
     "output_type": "execute_result"
    }
   ],
   "source": [
    "# look at the numeric columns\n",
    "df.describe()"
   ]
  },
  {
   "cell_type": "code",
   "execution_count": 7,
   "metadata": {},
   "outputs": [
    {
     "data": {
      "text/plain": [
       "CustomerID                       0\n",
       "Churn                            0\n",
       "Tenure                         264\n",
       "PreferredLoginDevice             0\n",
       "CityTier                         0\n",
       "WarehouseToHome                251\n",
       "PreferredPaymentMode             0\n",
       "Gender                           0\n",
       "HourSpendOnApp                 255\n",
       "NumberOfDeviceRegistered         0\n",
       "PreferedOrderCat                 0\n",
       "SatisfactionScore                0\n",
       "MaritalStatus                    0\n",
       "NumberOfAddress                  0\n",
       "Complain                         0\n",
       "OrderAmountHikeFromlastYear    265\n",
       "CouponUsed                     256\n",
       "OrderCount                     258\n",
       "DaySinceLastOrder              307\n",
       "CashbackAmount                   0\n",
       "dtype: int64"
      ]
     },
     "execution_count": 7,
     "metadata": {},
     "output_type": "execute_result"
    }
   ],
   "source": [
    "# check for NAs\n",
    "df.isna().sum()"
   ]
  },
  {
   "cell_type": "code",
   "execution_count": 8,
   "metadata": {},
   "outputs": [],
   "source": [
    "# as there are not many NAs I will drop them from the dataframe\n",
    "df = df.dropna()"
   ]
  },
  {
   "cell_type": "code",
   "execution_count": 9,
   "metadata": {},
   "outputs": [
    {
     "data": {
      "text/plain": [
       "array([1, 0])"
      ]
     },
     "execution_count": 9,
     "metadata": {},
     "output_type": "execute_result"
    }
   ],
   "source": [
    "# look at values in target 'Churn'\n",
    "df.Churn.unique()"
   ]
  },
  {
   "cell_type": "code",
   "execution_count": 10,
   "metadata": {},
   "outputs": [],
   "source": [
    "# identify target/split off target\n",
    "X = df.drop('Churn', axis=1)\n",
    "y = df.Churn"
   ]
  },
  {
   "cell_type": "code",
   "execution_count": 11,
   "metadata": {},
   "outputs": [
    {
     "data": {
      "text/plain": [
       "0    0.832803\n",
       "1    0.167197\n",
       "Name: Churn, dtype: float64"
      ]
     },
     "execution_count": 11,
     "metadata": {},
     "output_type": "execute_result"
    }
   ],
   "source": [
    "# target balance\n",
    "df.Churn.value_counts(normalize=True)"
   ]
  },
  {
   "cell_type": "code",
   "execution_count": 12,
   "metadata": {},
   "outputs": [],
   "source": [
    "# train test split\n",
    "from sklearn.model_selection import train_test_split, cross_val_score, KFold\n",
    "X_train, X_test, y_train, y_test = train_test_split(X, y, test_size = 0.20, random_state = 42)"
   ]
  },
  {
   "cell_type": "code",
   "execution_count": 13,
   "metadata": {},
   "outputs": [],
   "source": [
    "# create validation data\n",
    "X_t, X_val, y_t, y_val = train_test_split(X_train, y_train, test_size = 0.20, random_state = 42)"
   ]
  },
  {
   "cell_type": "code",
   "execution_count": 14,
   "metadata": {},
   "outputs": [
    {
     "data": {
      "text/plain": [
       "(2415, 14)"
      ]
     },
     "execution_count": 14,
     "metadata": {},
     "output_type": "execute_result"
    }
   ],
   "source": [
    "# isolate numerical columns\n",
    "X_t_num = X_t.select_dtypes(exclude='object')\n",
    "X_t_num.shape"
   ]
  },
  {
   "cell_type": "code",
   "execution_count": 15,
   "metadata": {},
   "outputs": [
    {
     "data": {
      "text/plain": [
       "(2415, 14)"
      ]
     },
     "execution_count": 15,
     "metadata": {},
     "output_type": "execute_result"
    }
   ],
   "source": [
    "# scale numerical data\n",
    "from sklearn.preprocessing import OneHotEncoder, StandardScaler\n",
    "ss = StandardScaler()\n",
    "X_t_sc = pd.DataFrame(ss.fit_transform(X_t_num), index= X_t_num.index, columns= X_t_num.columns)\n",
    "X_t_sc.shape"
   ]
  },
  {
   "cell_type": "code",
   "execution_count": 16,
   "metadata": {},
   "outputs": [
    {
     "data": {
      "text/plain": [
       "(2415, 16)"
      ]
     },
     "execution_count": 16,
     "metadata": {},
     "output_type": "execute_result"
    }
   ],
   "source": [
    "# add in one hot encoded\n",
    "ohe = OneHotEncoder(sparse= False, drop= 'first')\n",
    "\n",
    "X_t_cat = X_t.select_dtypes(include= 'object')\n",
    "\n",
    "#fit transform\n",
    "X_t_oh = pd.DataFrame(ohe.fit_transform(X_t_cat), index= X_t_cat.index, columns=ohe.get_feature_names(X_t_cat.columns))\n",
    "X_t_oh.shape"
   ]
  },
  {
   "cell_type": "code",
   "execution_count": 17,
   "metadata": {},
   "outputs": [
    {
     "data": {
      "text/plain": [
       "(2415, 30)"
      ]
     },
     "execution_count": 17,
     "metadata": {},
     "output_type": "execute_result"
    }
   ],
   "source": [
    "# merge databases\n",
    "X_t_f = pd.merge(X_t_sc, X_t_oh, left_index=True, right_index=True)\n",
    "X_t_f.shape"
   ]
  },
  {
   "cell_type": "code",
   "execution_count": 18,
   "metadata": {},
   "outputs": [],
   "source": [
    "# smote\n",
    "from imblearn.over_sampling import SMOTE\n",
    "smote = SMOTE()\n",
    "X_t_sm, y_t_sm = smote.fit_sample(X_t_f, y_t)"
   ]
  },
  {
   "cell_type": "code",
   "execution_count": 19,
   "metadata": {},
   "outputs": [
    {
     "data": {
      "text/plain": [
       "(604, 14)"
      ]
     },
     "execution_count": 19,
     "metadata": {},
     "output_type": "execute_result"
    }
   ],
   "source": [
    "# isolate numerical columns\n",
    "X_val_num = X_val.select_dtypes(exclude='object')\n",
    "X_val_num.shape"
   ]
  },
  {
   "cell_type": "code",
   "execution_count": 20,
   "metadata": {},
   "outputs": [
    {
     "data": {
      "text/plain": [
       "(604, 14)"
      ]
     },
     "execution_count": 20,
     "metadata": {},
     "output_type": "execute_result"
    }
   ],
   "source": [
    "# scale numerical data\n",
    "X_val_sc = pd.DataFrame(ss.transform(X_val_num), index= X_val_num.index, columns= X_val_num.columns)\n",
    "X_val_sc.shape"
   ]
  },
  {
   "cell_type": "code",
   "execution_count": 21,
   "metadata": {},
   "outputs": [
    {
     "data": {
      "text/plain": [
       "(604, 16)"
      ]
     },
     "execution_count": 21,
     "metadata": {},
     "output_type": "execute_result"
    }
   ],
   "source": [
    "# one hot encoded\n",
    "\n",
    "X_val_cat = X_val.select_dtypes(include= 'object')\n",
    "\n",
    "# transform\n",
    "X_val_oh = pd.DataFrame(ohe.transform(X_val_cat), index= X_val_cat.index, columns=ohe.get_feature_names(X_val_cat.columns))\n",
    "X_val_oh.shape"
   ]
  },
  {
   "cell_type": "code",
   "execution_count": 22,
   "metadata": {},
   "outputs": [
    {
     "data": {
      "text/plain": [
       "(604, 30)"
      ]
     },
     "execution_count": 22,
     "metadata": {},
     "output_type": "execute_result"
    }
   ],
   "source": [
    "# merge databases\n",
    "X_val_f = pd.merge(X_val_sc, X_val_oh, left_index=True, right_index=True)\n",
    "X_val_f.shape"
   ]
  },
  {
   "cell_type": "code",
   "execution_count": 23,
   "metadata": {},
   "outputs": [
    {
     "data": {
      "text/plain": [
       "0.8255234297108675"
      ]
     },
     "execution_count": 23,
     "metadata": {},
     "output_type": "execute_result"
    }
   ],
   "source": [
    "from sklearn.linear_model import LogisticRegression\n",
    "\n",
    "# instantiate model\n",
    "lg = LogisticRegression()\n",
    "\n",
    "# fit model\n",
    "lg.fit(X_t_sm, y_t_sm)\n",
    "\n",
    "# check accuracy on training data\n",
    "lg.score(X_t_sm, y_t_sm)"
   ]
  },
  {
   "cell_type": "code",
   "execution_count": 24,
   "metadata": {},
   "outputs": [
    {
     "name": "stdout",
     "output_type": "stream",
     "text": [
      "[[402  87]\n",
      " [ 25  90]]\n",
      "              precision    recall  f1-score   support\n",
      "\n",
      "           0       0.94      0.82      0.88       489\n",
      "           1       0.51      0.78      0.62       115\n",
      "\n",
      "    accuracy                           0.81       604\n",
      "   macro avg       0.72      0.80      0.75       604\n",
      "weighted avg       0.86      0.81      0.83       604\n",
      "\n"
     ]
    }
   ],
   "source": [
    "# validation testing\n",
    "from sklearn.model_selection import train_test_split, cross_val_score, KFold\n",
    "from sklearn.feature_selection import SelectFromModel\n",
    "\n",
    "# set predictions\n",
    "pred_lg_val = lg.predict(X_val_f)\n",
    "\n",
    "# confusion matrix and classification report\n",
    "print(confusion_matrix(y_val, pred_lg_val))\n",
    "print(classification_report(y_val, pred_lg_val))"
   ]
  },
  {
   "cell_type": "code",
   "execution_count": 25,
   "metadata": {},
   "outputs": [
    {
     "data": {
      "image/png": "[encoded data removed]",
      "text/plain": [
       "<Figure size 432x288 with 2 Axes>"
      ]
     },
     "metadata": {
      "needs_background": "light"
     },
     "output_type": "display_data"
    }
   ],
   "source": [
    "# plot confusion matrix\n",
    "fig, ax = plt.subplots()\n",
    "\n",
    "fig.suptitle(\"Logistic Regression Validation Confusion Matrix \")\n",
    "\n",
    "plot_confusion_matrix(lg, X_val_f, y_val, ax=ax, cmap=\"plasma\");"
   ]
  },
  {
   "cell_type": "code",
   "execution_count": 26,
   "metadata": {},
   "outputs": [
    {
     "data": {
      "text/plain": [
       "0.9623629112662014"
      ]
     },
     "execution_count": 26,
     "metadata": {},
     "output_type": "execute_result"
    }
   ],
   "source": [
    "# instantiate model\n",
    "svm = svm.SVC()\n",
    "\n",
    "# fit model\n",
    "svm.fit(X_t_sm, y_t_sm)\n",
    "\n",
    "# check accuracy on training data\n",
    "svm.score(X_t_sm, y_t_sm)"
   ]
  },
  {
   "cell_type": "code",
   "execution_count": 27,
   "metadata": {},
   "outputs": [
    {
     "name": "stdout",
     "output_type": "stream",
     "text": [
      "[[446  43]\n",
      " [ 26  89]]\n",
      "              precision    recall  f1-score   support\n",
      "\n",
      "           0       0.94      0.91      0.93       489\n",
      "           1       0.67      0.77      0.72       115\n",
      "\n",
      "    accuracy                           0.89       604\n",
      "   macro avg       0.81      0.84      0.82       604\n",
      "weighted avg       0.89      0.89      0.89       604\n",
      "\n"
     ]
    }
   ],
   "source": [
    "# validation testing\n",
    "\n",
    "# set predictions\n",
    "pred_svm_val = svm.predict(X_val_f)\n",
    "\n",
    "# confusion matrix and classification report\n",
    "print(confusion_matrix(y_val, pred_svm_val))\n",
    "print(classification_report(y_val, pred_svm_val))"
   ]
  },
  {
   "cell_type": "code",
   "execution_count": 28,
   "metadata": {},
   "outputs": [
    {
     "data": {
      "image/png": "[encoded data removed]",
      "text/plain": [
       "<Figure size 432x288 with 2 Axes>"
      ]
     },
     "metadata": {
      "needs_background": "light"
     },
     "output_type": "display_data"
    }
   ],
   "source": [
    "# plot confusion matrix\n",
    "fig, ax = plt.subplots()\n",
    "\n",
    "fig.suptitle(\"SVM Validation Confusion Matrix \")\n",
    "\n",
    "plot_confusion_matrix(svm, X_val_f, y_val, ax=ax, cmap=\"plasma\");"
   ]
  },
  {
   "cell_type": "code",
   "execution_count": 29,
   "metadata": {},
   "outputs": [
    {
     "data": {
      "text/plain": [
       "1.0"
      ]
     },
     "execution_count": 29,
     "metadata": {},
     "output_type": "execute_result"
    }
   ],
   "source": [
    "# instantiate model\n",
    "rfm = RandomForestClassifier()\n",
    "\n",
    "# fit model\n",
    "rfm.fit(X_t_sm, y_t_sm)\n",
    "\n",
    "# check accuracy\n",
    "rfm.score(X_t_sm, y_t_sm)"
   ]
  },
  {
   "cell_type": "code",
   "execution_count": 30,
   "metadata": {},
   "outputs": [
    {
     "name": "stdout",
     "output_type": "stream",
     "text": [
      "[[477  12]\n",
      " [ 35  80]]\n",
      "              precision    recall  f1-score   support\n",
      "\n",
      "           0       0.93      0.98      0.95       489\n",
      "           1       0.87      0.70      0.77       115\n",
      "\n",
      "    accuracy                           0.92       604\n",
      "   macro avg       0.90      0.84      0.86       604\n",
      "weighted avg       0.92      0.92      0.92       604\n",
      "\n"
     ]
    }
   ],
   "source": [
    "# validation testing\n",
    "\n",
    "# set predictions\n",
    "pred_rfm_val = rfm.predict(X_val_f)\n",
    "\n",
    "# confusion matrix and classification report\n",
    "print(confusion_matrix(y_val, pred_rfm_val))\n",
    "print(classification_report(y_val, pred_rfm_val))"
   ]
  },
  {
   "cell_type": "code",
   "execution_count": 31,
   "metadata": {},
   "outputs": [
    {
     "data": {
      "text/plain": [
       "1.0"
      ]
     },
     "execution_count": 31,
     "metadata": {},
     "output_type": "execute_result"
    }
   ],
   "source": [
    "# adjust some hyper parameters to address overfitting\n",
    "\n",
    "# instantiate model\n",
    "rfm2 = RandomForestClassifier(n_estimators=50, max_depth=50, max_leaf_nodes=500)\n",
    "\n",
    "# fit model\n",
    "rfm2.fit(X_t_sm, y_t_sm)\n",
    "\n",
    "# check accuracy on training data\n",
    "rfm2.score(X_t_sm, y_t_sm)"
   ]
  },
  {
   "cell_type": "code",
   "execution_count": 32,
   "metadata": {},
   "outputs": [
    {
     "name": "stdout",
     "output_type": "stream",
     "text": [
      "[[476  13]\n",
      " [ 31  84]]\n",
      "              precision    recall  f1-score   support\n",
      "\n",
      "           0       0.94      0.97      0.96       489\n",
      "           1       0.87      0.73      0.79       115\n",
      "\n",
      "    accuracy                           0.93       604\n",
      "   macro avg       0.90      0.85      0.87       604\n",
      "weighted avg       0.92      0.93      0.92       604\n",
      "\n"
     ]
    }
   ],
   "source": [
    "# validation testing\n",
    "\n",
    "# set predictions\n",
    "pred_rfm2_val = rfm2.predict(X_val_f)\n",
    "\n",
    "# confusion matrix and classification report\n",
    "print(confusion_matrix(y_val, pred_rfm2_val))\n",
    "print(classification_report(y_val, pred_rfm2_val))"
   ]
  },
  {
   "cell_type": "code",
   "execution_count": 33,
   "metadata": {},
   "outputs": [
    {
     "data": {
      "image/png": "[encoded data removed]",
      "text/plain": [
       "<Figure size 432x288 with 2 Axes>"
      ]
     },
     "metadata": {
      "needs_background": "light"
     },
     "output_type": "display_data"
    }
   ],
   "source": [
    "# plot confusion matrix\n",
    "fig, ax = plt.subplots()\n",
    "\n",
    "fig.suptitle(\"Random Forest Validation Confusion Matrix \")\n",
    "\n",
    "plot_confusion_matrix(rfm2, X_val_f, y_val, ax=ax, cmap=\"plasma\");"
   ]
  },
  {
   "cell_type": "code",
   "execution_count": 34,
   "metadata": {},
   "outputs": [
    {
     "data": {
      "text/plain": [
       "0.940677966101695"
      ]
     },
     "execution_count": 34,
     "metadata": {},
     "output_type": "execute_result"
    }
   ],
   "source": [
    "# instantiate model\n",
    "knn = KNeighborsClassifier()\n",
    "# fit model\n",
    "knn = knn.fit(X_t_sm, y_t_sm)\n",
    "# check accuracy\n",
    "knn.score(X_t_sm, y_t_sm)"
   ]
  },
  {
   "cell_type": "code",
   "execution_count": 35,
   "metadata": {},
   "outputs": [
    {
     "name": "stdout",
     "output_type": "stream",
     "text": [
      "[[402  87]\n",
      " [  8 107]]\n",
      "              precision    recall  f1-score   support\n",
      "\n",
      "           0       0.98      0.82      0.89       489\n",
      "           1       0.55      0.93      0.69       115\n",
      "\n",
      "    accuracy                           0.84       604\n",
      "   macro avg       0.77      0.88      0.79       604\n",
      "weighted avg       0.90      0.84      0.86       604\n",
      "\n"
     ]
    }
   ],
   "source": [
    "# validation testing\n",
    "\n",
    "# set predictions\n",
    "pred_knn_val = knn.predict(X_val_f)\n",
    "\n",
    "# confusion matrix and classification report\n",
    "print(confusion_matrix(y_val, pred_knn_val))\n",
    "print(classification_report(y_val, pred_knn_val))"
   ]
  },
  {
   "cell_type": "code",
   "execution_count": 36,
   "metadata": {},
   "outputs": [
    {
     "data": {
      "image/png": "[encoded data removed]",
      "text/plain": [
       "<Figure size 432x288 with 2 Axes>"
      ]
     },
     "metadata": {
      "needs_background": "light"
     },
     "output_type": "display_data"
    }
   ],
   "source": [
    "# plot confusion matrix\n",
    "fig, ax = plt.subplots()\n",
    "\n",
    "fig.suptitle(\"KNN Validation Confusion Matrix \")\n",
    "\n",
    "plot_confusion_matrix(knn, X_val_f, y_val, ax=ax, cmap=\"plasma\");"
   ]
  },
  {
   "cell_type": "code",
   "execution_count": 37,
   "metadata": {},
   "outputs": [
    {
     "data": {
      "text/plain": [
       "1.0"
      ]
     },
     "execution_count": 37,
     "metadata": {},
     "output_type": "execute_result"
    }
   ],
   "source": [
    "from sklearn.tree import DecisionTreeClassifier\n",
    "# instantiate model\n",
    "dtc = DecisionTreeClassifier()\n",
    "# fit model\n",
    "dtc = dtc.fit(X_t_sm, y_t_sm)\n",
    "# check accuracy\n",
    "dtc.score(X_t_sm, y_t_sm)"
   ]
  },
  {
   "cell_type": "code",
   "execution_count": 38,
   "metadata": {},
   "outputs": [
    {
     "name": "stdout",
     "output_type": "stream",
     "text": [
      "[[458  31]\n",
      " [ 34  81]]\n",
      "              precision    recall  f1-score   support\n",
      "\n",
      "           0       0.93      0.94      0.93       489\n",
      "           1       0.72      0.70      0.71       115\n",
      "\n",
      "    accuracy                           0.89       604\n",
      "   macro avg       0.83      0.82      0.82       604\n",
      "weighted avg       0.89      0.89      0.89       604\n",
      "\n"
     ]
    }
   ],
   "source": [
    "# validation testing\n",
    "\n",
    "# set predictions\n",
    "pred_dtc_val = dtc.predict(X_val_f)\n",
    "\n",
    "# confusion matrix and classification report\n",
    "print(confusion_matrix(y_val, pred_dtc_val))\n",
    "print(classification_report(y_val, pred_dtc_val))"
   ]
  },
  {
   "cell_type": "code",
   "execution_count": 39,
   "metadata": {},
   "outputs": [
    {
     "data": {
      "image/png": "[encoded data removed]",
      "text/plain": [
       "<Figure size 432x288 with 2 Axes>"
      ]
     },
     "metadata": {
      "needs_background": "light"
     },
     "output_type": "display_data"
    }
   ],
   "source": [
    "# plot confusion matrix\n",
    "fig, ax = plt.subplots()\n",
    "\n",
    "fig.suptitle(\"DTC Validation Confusion Matrix \")\n",
    "\n",
    "plot_confusion_matrix(dtc, X_val_f, y_val, ax=ax, cmap=\"plasma\");"
   ]
  },
  {
   "cell_type": "code",
   "execution_count": 40,
   "metadata": {},
   "outputs": [
    {
     "data": {
      "text/plain": [
       "0.5825024925224327"
      ]
     },
     "execution_count": 40,
     "metadata": {},
     "output_type": "execute_result"
    }
   ],
   "source": [
    "from sklearn.naive_bayes import GaussianNB\n",
    "\n",
    "# instantiate model\n",
    "nbclf = GaussianNB()\n",
    "# fit model\n",
    "nbclf = nbclf.fit(X_t_sm, y_t_sm)\n",
    "# check accuracy\n",
    "nbclf.score(X_t_sm, y_t_sm)"
   ]
  },
  {
   "cell_type": "code",
   "execution_count": 41,
   "metadata": {},
   "outputs": [
    {
     "name": "stdout",
     "output_type": "stream",
     "text": [
      "[[ 87 402]\n",
      " [  5 110]]\n",
      "              precision    recall  f1-score   support\n",
      "\n",
      "           0       0.95      0.18      0.30       489\n",
      "           1       0.21      0.96      0.35       115\n",
      "\n",
      "    accuracy                           0.33       604\n",
      "   macro avg       0.58      0.57      0.33       604\n",
      "weighted avg       0.81      0.33      0.31       604\n",
      "\n"
     ]
    }
   ],
   "source": [
    "# validation testing\n",
    "\n",
    "# set predictions\n",
    "pred_nbclf_val = nbclf.predict(X_val_f)\n",
    "\n",
    "# confusion matrix and classification report\n",
    "print(confusion_matrix(y_val, pred_nbclf_val))\n",
    "print(classification_report(y_val, pred_nbclf_val))"
   ]
  },
  {
   "cell_type": "code",
   "execution_count": 42,
   "metadata": {},
   "outputs": [
    {
     "data": {
      "image/png": "[encoded data removed]",
      "text/plain": [
       "<Figure size 432x288 with 2 Axes>"
      ]
     },
     "metadata": {
      "needs_background": "light"
     },
     "output_type": "display_data"
    }
   ],
   "source": [
    "# plot confusion matrix\n",
    "fig, ax = plt.subplots()\n",
    "\n",
    "fig.suptitle(\"nbclf Validation Confusion Matrix \")\n",
    "\n",
    "plot_confusion_matrix(nbclf, X_val_f, y_val, ax=ax, cmap=\"plasma\");"
   ]
  },
  {
   "cell_type": "code",
   "execution_count": 43,
   "metadata": {},
   "outputs": [
    {
     "data": {
      "text/plain": [
       "0.9997507477567298"
      ]
     },
     "execution_count": 43,
     "metadata": {},
     "output_type": "execute_result"
    }
   ],
   "source": [
    "from sklearn.ensemble import StackingClassifier\n",
    "\n",
    "# Create Base Learners\n",
    "base_learners = [\n",
    "                 ('rfm2', RandomForestClassifier(n_estimators=10, random_state=42)),\n",
    "                 ('knn', KNeighborsClassifier(n_neighbors=5)),\n",
    "                 ('dtc', DecisionTreeClassifier())\n",
    "                ]\n",
    "\n",
    "# Initialize Stacking Classifier with the Meta Learner\n",
    "clf = StackingClassifier(estimators=base_learners, final_estimator=LogisticRegression())\n",
    "\n",
    "# fit model and check accuracy score\n",
    "clf.fit(X_t_sm, y_t_sm).score(X_t_sm, y_t_sm)"
   ]
  },
  {
   "cell_type": "code",
   "execution_count": 44,
   "metadata": {},
   "outputs": [
    {
     "name": "stdout",
     "output_type": "stream",
     "text": [
      "[[480   9]\n",
      " [ 26  89]]\n",
      "              precision    recall  f1-score   support\n",
      "\n",
      "           0       0.95      0.98      0.96       489\n",
      "           1       0.91      0.77      0.84       115\n",
      "\n",
      "    accuracy                           0.94       604\n",
      "   macro avg       0.93      0.88      0.90       604\n",
      "weighted avg       0.94      0.94      0.94       604\n",
      "\n"
     ]
    }
   ],
   "source": [
    "# validation testing\n",
    "\n",
    "# set predictions\n",
    "pred_clf_val = clf.predict(X_val_f)\n",
    "\n",
    "# confusion matrix and classification report\n",
    "print(confusion_matrix(y_val, pred_clf_val))\n",
    "print(classification_report(y_val, pred_clf_val))"
   ]
  },
  {
   "cell_type": "code",
   "execution_count": 45,
   "metadata": {},
   "outputs": [
    {
     "data": {
      "image/png": "[encoded data removed]",
      "text/plain": [
       "<Figure size 432x288 with 2 Axes>"
      ]
     },
     "metadata": {
      "needs_background": "light"
     },
     "output_type": "display_data"
    }
   ],
   "source": [
    "# plot confusion matrix\n",
    "fig, ax = plt.subplots()\n",
    "\n",
    "fig.suptitle(\"CLF Validation Confusion Matrix \")\n",
    "\n",
    "plot_confusion_matrix(clf, X_val_f, y_val, ax=ax, cmap=\"plasma\");"
   ]
  },
  {
   "cell_type": "code",
   "execution_count": 49,
   "metadata": {},
   "outputs": [
    {
     "data": {
      "text/plain": [
       "0.8681455633100698"
      ]
     },
     "execution_count": 49,
     "metadata": {},
     "output_type": "execute_result"
    }
   ],
   "source": [
    "import xgboost as xgb\n",
    "XGB_model=xgb.XGBClassifier(random_state=42,learning_rate=0.01)\n",
    "XGB_model.fit(X_t_sm, y_t_sm)\n",
    "# check accuracy\n",
    "XGB_model.score(X_t_sm, y_t_sm)"
   ]
  },
  {
   "cell_type": "code",
   "execution_count": 50,
   "metadata": {},
   "outputs": [
    {
     "name": "stdout",
     "output_type": "stream",
     "text": [
      "[[433  56]\n",
      " [ 35  80]]\n",
      "              precision    recall  f1-score   support\n",
      "\n",
      "           0       0.93      0.89      0.90       489\n",
      "           1       0.59      0.70      0.64       115\n",
      "\n",
      "    accuracy                           0.85       604\n",
      "   macro avg       0.76      0.79      0.77       604\n",
      "weighted avg       0.86      0.85      0.85       604\n",
      "\n"
     ]
    }
   ],
   "source": [
    "# validation testing\n",
    "\n",
    "# set predictions\n",
    "pred_XGB_model_val = XGB_model.predict(X_val_f)\n",
    "\n",
    "# confusion matrix and classification report\n",
    "print(confusion_matrix(y_val, pred_XGB_model_val))\n",
    "print(classification_report(y_val, pred_XGB_model_val))"
   ]
  },
  {
   "cell_type": "code",
   "execution_count": 51,
   "metadata": {},
   "outputs": [
    {
     "data": {
      "text/plain": [
       "(3019, 14)"
      ]
     },
     "execution_count": 51,
     "metadata": {},
     "output_type": "execute_result"
    }
   ],
   "source": [
    "# isolate numerical columns\n",
    "X_train_num = X_train.select_dtypes(exclude='object')\n",
    "X_train_num.shape"
   ]
  },
  {
   "cell_type": "code",
   "execution_count": 52,
   "metadata": {},
   "outputs": [
    {
     "data": {
      "text/plain": [
       "(3019, 14)"
      ]
     },
     "execution_count": 52,
     "metadata": {},
     "output_type": "execute_result"
    }
   ],
   "source": [
    "# scale numerical data\n",
    "ss_f = StandardScaler()\n",
    "\n",
    "X_train_sc = pd.DataFrame(ss_f.fit_transform(X_train_num), index= X_train_num.index, columns= X_train_num.columns)\n",
    "X_train_sc.shape"
   ]
  },
  {
   "cell_type": "code",
   "execution_count": 53,
   "metadata": {},
   "outputs": [
    {
     "data": {
      "text/plain": [
       "(3019, 21)"
      ]
     },
     "execution_count": 53,
     "metadata": {},
     "output_type": "execute_result"
    }
   ],
   "source": [
    "# one hot encode\n",
    "ohe_f = OneHotEncoder(sparse= False, handle_unknown='ignore')\n",
    "\n",
    "X_train_cat = X_train.select_dtypes(include= 'object')\n",
    "\n",
    "#fit transform\n",
    "X_train_oh = pd.DataFrame(ohe_f.fit_transform(X_train_cat), index= X_train_cat.index, columns=ohe_f.get_feature_names(X_train_cat.columns))\n",
    "X_train_oh.shape"
   ]
  },
  {
   "cell_type": "code",
   "execution_count": 54,
   "metadata": {},
   "outputs": [
    {
     "data": {
      "text/plain": [
       "(3019, 35)"
      ]
     },
     "execution_count": 54,
     "metadata": {},
     "output_type": "execute_result"
    }
   ],
   "source": [
    "# merge databases\n",
    "X_train_f = pd.merge(X_train_sc, X_train_oh, left_index=True, right_index=True)\n",
    "X_train_f.shape"
   ]
  },
  {
   "cell_type": "code",
   "execution_count": 55,
   "metadata": {},
   "outputs": [],
   "source": [
    "# smote\n",
    "sm_f = SMOTE()\n",
    "\n",
    "X_train_sm, y_train_sm = smote.fit_sample(X_train_f, y_train)"
   ]
  },
  {
   "cell_type": "code",
   "execution_count": 56,
   "metadata": {},
   "outputs": [
    {
     "data": {
      "text/plain": [
       "(755, 14)"
      ]
     },
     "execution_count": 56,
     "metadata": {},
     "output_type": "execute_result"
    }
   ],
   "source": [
    "# isolate numerical columns\n",
    "X_test_num = X_test.select_dtypes(exclude='object')\n",
    "\n",
    "X_test_num.shape"
   ]
  },
  {
   "cell_type": "code",
   "execution_count": 57,
   "metadata": {},
   "outputs": [
    {
     "data": {
      "text/plain": [
       "(755, 14)"
      ]
     },
     "execution_count": 57,
     "metadata": {},
     "output_type": "execute_result"
    }
   ],
   "source": [
    "# scale numerical data\n",
    "X_test_sc = pd.DataFrame(ss_f.transform(X_test_num), index= X_test_num.index, columns= X_test_num.columns)\n",
    "\n",
    "X_test_sc.shape"
   ]
  },
  {
   "cell_type": "code",
   "execution_count": 58,
   "metadata": {},
   "outputs": [],
   "source": [
    "# one hot encode\n",
    "\n",
    "X_test_cat = X_test.select_dtypes(include= 'object')\n",
    "\n",
    "X_test_oh = pd.DataFrame(ohe_f.transform(X_test_cat), index= X_test_cat.index, columns=ohe_f.get_feature_names(X_test_cat.columns))"
   ]
  },
  {
   "cell_type": "code",
   "execution_count": 59,
   "metadata": {},
   "outputs": [
    {
     "data": {
      "text/plain": [
       "(755, 35)"
      ]
     },
     "execution_count": 59,
     "metadata": {},
     "output_type": "execute_result"
    }
   ],
   "source": [
    "# merge databases\n",
    "X_test_f = pd.merge(X_test_sc, X_test_oh, left_index=True, right_index=True)\n",
    "X_test_f.shape"
   ]
  },
  {
   "cell_type": "code",
   "execution_count": 60,
   "metadata": {},
   "outputs": [
    {
     "data": {
      "text/html": [
       "<div>\n",
       "<style scoped>\n",
       "    .dataframe tbody tr th:only-of-type {\n",
       "        vertical-align: middle;\n",
       "    }\n",
       "\n",
       "    .dataframe tbody tr th {\n",
       "        vertical-align: top;\n",
       "    }\n",
       "\n",
       "    .dataframe thead th {\n",
       "        text-align: right;\n",
       "    }\n",
       "</style>\n",
       "<table border=\"1\" class=\"dataframe\">\n",
       "  <thead>\n",
       "    <tr style=\"text-align: right;\">\n",
       "      <th></th>\n",
       "      <th>CustomerID</th>\n",
       "      <th>Tenure</th>\n",
       "      <th>CityTier</th>\n",
       "      <th>WarehouseToHome</th>\n",
       "      <th>HourSpendOnApp</th>\n",
       "      <th>NumberOfDeviceRegistered</th>\n",
       "      <th>SatisfactionScore</th>\n",
       "      <th>NumberOfAddress</th>\n",
       "      <th>Complain</th>\n",
       "      <th>OrderAmountHikeFromlastYear</th>\n",
       "      <th>...</th>\n",
       "      <th>Gender_Male</th>\n",
       "      <th>PreferedOrderCat_Fashion</th>\n",
       "      <th>PreferedOrderCat_Grocery</th>\n",
       "      <th>PreferedOrderCat_Laptop &amp; Accessory</th>\n",
       "      <th>PreferedOrderCat_Mobile</th>\n",
       "      <th>PreferedOrderCat_Mobile Phone</th>\n",
       "      <th>PreferedOrderCat_Others</th>\n",
       "      <th>MaritalStatus_Divorced</th>\n",
       "      <th>MaritalStatus_Married</th>\n",
       "      <th>MaritalStatus_Single</th>\n",
       "    </tr>\n",
       "  </thead>\n",
       "  <tbody>\n",
       "    <tr>\n",
       "      <th>178</th>\n",
       "      <td>-1.789099</td>\n",
       "      <td>-0.610433</td>\n",
       "      <td>1.391318</td>\n",
       "      <td>-0.329268</td>\n",
       "      <td>0.015262</td>\n",
       "      <td>-1.720102</td>\n",
       "      <td>-0.751625</td>\n",
       "      <td>0.292397</td>\n",
       "      <td>-0.622421</td>\n",
       "      <td>-1.307272</td>\n",
       "      <td>...</td>\n",
       "      <td>1.0</td>\n",
       "      <td>0.0</td>\n",
       "      <td>0.0</td>\n",
       "      <td>1.0</td>\n",
       "      <td>0.0</td>\n",
       "      <td>0.0</td>\n",
       "      <td>0.0</td>\n",
       "      <td>1.0</td>\n",
       "      <td>0.0</td>\n",
       "      <td>0.0</td>\n",
       "    </tr>\n",
       "    <tr>\n",
       "      <th>5627</th>\n",
       "      <td>1.622132</td>\n",
       "      <td>-0.998492</td>\n",
       "      <td>-0.749008</td>\n",
       "      <td>-0.565051</td>\n",
       "      <td>0.015262</td>\n",
       "      <td>-1.720102</td>\n",
       "      <td>0.688195</td>\n",
       "      <td>-0.481942</td>\n",
       "      <td>1.606629</td>\n",
       "      <td>1.447425</td>\n",
       "      <td>...</td>\n",
       "      <td>1.0</td>\n",
       "      <td>0.0</td>\n",
       "      <td>0.0</td>\n",
       "      <td>1.0</td>\n",
       "      <td>0.0</td>\n",
       "      <td>0.0</td>\n",
       "      <td>0.0</td>\n",
       "      <td>0.0</td>\n",
       "      <td>1.0</td>\n",
       "      <td>0.0</td>\n",
       "    </tr>\n",
       "    <tr>\n",
       "      <th>4136</th>\n",
       "      <td>0.688723</td>\n",
       "      <td>-0.093020</td>\n",
       "      <td>1.391318</td>\n",
       "      <td>2.264342</td>\n",
       "      <td>1.411490</td>\n",
       "      <td>1.197853</td>\n",
       "      <td>-0.031715</td>\n",
       "      <td>-0.481942</td>\n",
       "      <td>-0.622421</td>\n",
       "      <td>1.722895</td>\n",
       "      <td>...</td>\n",
       "      <td>0.0</td>\n",
       "      <td>0.0</td>\n",
       "      <td>0.0</td>\n",
       "      <td>1.0</td>\n",
       "      <td>0.0</td>\n",
       "      <td>0.0</td>\n",
       "      <td>0.0</td>\n",
       "      <td>0.0</td>\n",
       "      <td>1.0</td>\n",
       "      <td>0.0</td>\n",
       "    </tr>\n",
       "    <tr>\n",
       "      <th>2348</th>\n",
       "      <td>-0.430617</td>\n",
       "      <td>-1.127846</td>\n",
       "      <td>-0.749008</td>\n",
       "      <td>-1.036616</td>\n",
       "      <td>-1.380966</td>\n",
       "      <td>-0.747450</td>\n",
       "      <td>-1.471536</td>\n",
       "      <td>0.292397</td>\n",
       "      <td>-0.622421</td>\n",
       "      <td>-1.307272</td>\n",
       "      <td>...</td>\n",
       "      <td>1.0</td>\n",
       "      <td>0.0</td>\n",
       "      <td>0.0</td>\n",
       "      <td>0.0</td>\n",
       "      <td>1.0</td>\n",
       "      <td>0.0</td>\n",
       "      <td>0.0</td>\n",
       "      <td>0.0</td>\n",
       "      <td>1.0</td>\n",
       "      <td>0.0</td>\n",
       "    </tr>\n",
       "    <tr>\n",
       "      <th>642</th>\n",
       "      <td>-1.498622</td>\n",
       "      <td>0.165687</td>\n",
       "      <td>-0.749008</td>\n",
       "      <td>-0.800834</td>\n",
       "      <td>-1.380966</td>\n",
       "      <td>-0.747450</td>\n",
       "      <td>0.688195</td>\n",
       "      <td>-0.094772</td>\n",
       "      <td>-0.622421</td>\n",
       "      <td>-0.205393</td>\n",
       "      <td>...</td>\n",
       "      <td>0.0</td>\n",
       "      <td>0.0</td>\n",
       "      <td>0.0</td>\n",
       "      <td>1.0</td>\n",
       "      <td>0.0</td>\n",
       "      <td>0.0</td>\n",
       "      <td>0.0</td>\n",
       "      <td>0.0</td>\n",
       "      <td>0.0</td>\n",
       "      <td>1.0</td>\n",
       "    </tr>\n",
       "  </tbody>\n",
       "</table>\n",
       "<p>5 rows × 35 columns</p>\n",
       "</div>"
      ],
      "text/plain": [
       "      CustomerID    Tenure  CityTier  WarehouseToHome  HourSpendOnApp  \\\n",
       "178    -1.789099 -0.610433  1.391318        -0.329268        0.015262   \n",
       "5627    1.622132 -0.998492 -0.749008        -0.565051        0.015262   \n",
       "4136    0.688723 -0.093020  1.391318         2.264342        1.411490   \n",
       "2348   -0.430617 -1.127846 -0.749008        -1.036616       -1.380966   \n",
       "642    -1.498622  0.165687 -0.749008        -0.800834       -1.380966   \n",
       "\n",
       "      NumberOfDeviceRegistered  SatisfactionScore  NumberOfAddress  Complain  \\\n",
       "178                  -1.720102          -0.751625         0.292397 -0.622421   \n",
       "5627                 -1.720102           0.688195        -0.481942  1.606629   \n",
       "4136                  1.197853          -0.031715        -0.481942 -0.622421   \n",
       "2348                 -0.747450          -1.471536         0.292397 -0.622421   \n",
       "642                  -0.747450           0.688195        -0.094772 -0.622421   \n",
       "\n",
       "      OrderAmountHikeFromlastYear  ...  Gender_Male  PreferedOrderCat_Fashion  \\\n",
       "178                     -1.307272  ...          1.0                       0.0   \n",
       "5627                     1.447425  ...          1.0                       0.0   \n",
       "4136                     1.722895  ...          0.0                       0.0   \n",
       "2348                    -1.307272  ...          1.0                       0.0   \n",
       "642                     -0.205393  ...          0.0                       0.0   \n",
       "\n",
       "      PreferedOrderCat_Grocery  PreferedOrderCat_Laptop & Accessory  \\\n",
       "178                        0.0                                  1.0   \n",
       "5627                       0.0                                  1.0   \n",
       "4136                       0.0                                  1.0   \n",
       "2348                       0.0                                  0.0   \n",
       "642                        0.0                                  1.0   \n",
       "\n",
       "      PreferedOrderCat_Mobile  PreferedOrderCat_Mobile Phone  \\\n",
       "178                       0.0                            0.0   \n",
       "5627                      0.0                            0.0   \n",
       "4136                      0.0                            0.0   \n",
       "2348                      1.0                            0.0   \n",
       "642                       0.0                            0.0   \n",
       "\n",
       "      PreferedOrderCat_Others  MaritalStatus_Divorced  MaritalStatus_Married  \\\n",
       "178                       0.0                     1.0                    0.0   \n",
       "5627                      0.0                     0.0                    1.0   \n",
       "4136                      0.0                     0.0                    1.0   \n",
       "2348                      0.0                     0.0                    1.0   \n",
       "642                       0.0                     0.0                    0.0   \n",
       "\n",
       "      MaritalStatus_Single  \n",
       "178                    0.0  \n",
       "5627                   0.0  \n",
       "4136                   0.0  \n",
       "2348                   0.0  \n",
       "642                    1.0  \n",
       "\n",
       "[5 rows x 35 columns]"
      ]
     },
     "execution_count": 60,
     "metadata": {},
     "output_type": "execute_result"
    }
   ],
   "source": [
    "X_test_f.head()"
   ]
  },
  {
   "cell_type": "code",
   "execution_count": 61,
   "metadata": {},
   "outputs": [
    {
     "data": {
      "text/plain": [
       "1.0"
      ]
     },
     "execution_count": 61,
     "metadata": {},
     "output_type": "execute_result"
    }
   ],
   "source": [
    "# fit model\n",
    "clf = clf.fit(X_train_sm, y_train_sm)\n",
    "# check accuracy\n",
    "clf.score(X_train_sm, y_train_sm)"
   ]
  },
  {
   "cell_type": "code",
   "execution_count": 62,
   "metadata": {},
   "outputs": [
    {
     "data": {
      "image/png": "[encoded data removed]",
      "text/plain": [
       "<Figure size 432x288 with 2 Axes>"
      ]
     },
     "metadata": {
      "needs_background": "light"
     },
     "output_type": "display_data"
    }
   ],
   "source": [
    "# plot confusion matrix\n",
    "fig, ax = plt.subplots()\n",
    "\n",
    "fig.suptitle(\"CLF Entire Training Set Confusion Matrix \")\n",
    "\n",
    "plot_confusion_matrix(clf, X_train_sm, y_train_sm, ax=ax, cmap=\"plasma\");"
   ]
  },
  {
   "cell_type": "code",
   "execution_count": 63,
   "metadata": {},
   "outputs": [
    {
     "data": {
      "text/plain": [
       "0.9576158940397351"
      ]
     },
     "execution_count": 63,
     "metadata": {},
     "output_type": "execute_result"
    }
   ],
   "source": [
    "clf.score(X_test_f, y_test)"
   ]
  },
  {
   "cell_type": "code",
   "execution_count": 64,
   "metadata": {},
   "outputs": [
    {
     "name": "stdout",
     "output_type": "stream",
     "text": [
      "[[637  11]\n",
      " [ 21  86]]\n",
      "              precision    recall  f1-score   support\n",
      "\n",
      "           0       0.97      0.98      0.98       648\n",
      "           1       0.89      0.80      0.84       107\n",
      "\n",
      "    accuracy                           0.96       755\n",
      "   macro avg       0.93      0.89      0.91       755\n",
      "weighted avg       0.96      0.96      0.96       755\n",
      "\n"
     ]
    }
   ],
   "source": [
    "# set predictions\n",
    "pred_clf_test = clf.predict(X_test_f)\n",
    "\n",
    "# confusion matrix and classification report\n",
    "print(confusion_matrix(y_test, pred_clf_test))\n",
    "print(classification_report(y_test, pred_clf_test))"
   ]
  },
  {
   "cell_type": "code",
   "execution_count": 66,
   "metadata": {},
   "outputs": [
    {
     "data": {
      "image/png": "[encoded data removed]",
      "text/plain": [
       "<Figure size 432x288 with 2 Axes>"
      ]
     },
     "metadata": {
      "needs_background": "light"
     },
     "output_type": "display_data"
    }
   ],
   "source": [
    "# plot confusion matrix\n",
    "fig, ax = plt.subplots()\n",
    "\n",
    "fig.suptitle(\"Stacked Model Test Data Confusion Matrix \")\n",
    "\n",
    "plot_confusion_matrix(clf, X_test_f, y_test, ax=ax, cmap=\"plasma\");\n",
    "#plt.savefig('../reports/figures/stacked.png', transparent=True);"
   ]
  },
  {
   "cell_type": "code",
   "execution_count": 67,
   "metadata": {},
   "outputs": [
    {
     "data": {
      "text/plain": [
       "CustomerID                     0.031617\n",
       "Churn                          1.000000\n",
       "Tenure                        -0.340013\n",
       "CityTier                       0.073858\n",
       "WarehouseToHome                0.087318\n",
       "HourSpendOnApp                 0.060845\n",
       "NumberOfDeviceRegistered       0.149041\n",
       "SatisfactionScore              0.095759\n",
       "NumberOfAddress                0.076336\n",
       "Complain                       0.238137\n",
       "OrderAmountHikeFromlastYear    0.017193\n",
       "CouponUsed                     0.010982\n",
       "OrderCount                    -0.001962\n",
       "DaySinceLastOrder             -0.139254\n",
       "CashbackAmount                -0.058866\n",
       "Name: Churn, dtype: float64"
      ]
     },
     "execution_count": 67,
     "metadata": {},
     "output_type": "execute_result"
    }
   ],
   "source": [
    "# create correlations for plotting correlation to target \"Attrition\"\n",
    "corr = df.corr().Churn\n",
    "corr"
   ]
  },
  {
   "cell_type": "code",
   "execution_count": 70,
   "metadata": {},
   "outputs": [
    {
     "name": "stdout",
     "output_type": "stream",
     "text": [
      "['Tenure', 'Complain', 'Numberofdeviceregistered', 'Daysincelastorder', 'Satisfactionscore']\n",
      "[34.001288379447104, 23.813730782624013, 14.904124329206853, 13.925407645317428, 9.575910418945778]\n"
     ]
    },
    {
     "data": {
      "image/png": "[encoded data removed]",
      "text/plain": [
       "<Figure size 700x600 with 1 Axes>"
      ]
     },
     "metadata": {},
     "output_type": "display_data"
    }
   ],
   "source": [
    "# function to plot feature correlations\n",
    "def create_plot_of_feature_importances(coeff_dict, top_num=10, figsize=(7, 6), title='Feature Importances', xlabel='Feature', ylabel='Correlation Percentage', append_title='', prepend_title='', width=0.8, xrot=0, bar_colors=None, percent=None, save_path=None):\n",
    "    ''' \n",
    "    Inputs: \n",
    "    \n",
    "    model: A trained ensemble model instance\n",
    "    X: a dataframe of the features used to train the model\n",
    "    '''\n",
    "    dict_keys = [key for key in coeff_dict.keys()]\n",
    "    dict_values = [abs(value) for value in coeff_dict.values()]\n",
    "    \n",
    "    coeff_dict = {dict_keys[x]: dict_values[x] for x in range(len(dict_values))}\n",
    "    coeff_dict = dict(list(coeff_dict.items())[:])\n",
    "    features_and_importances = zip(coeff_dict.keys(), coeff_dict.values())\n",
    "    features_and_importances = sorted(features_and_importances, key = lambda x: x[1], reverse=True)\n",
    "    \n",
    "    features = [i[0].title() for i in features_and_importances[1:top_num+1]]\n",
    "    print(features)\n",
    "    importances = [abs(i[1])*100 for i in features_and_importances[1:top_num+1]]\n",
    "    print(importances)\n",
    "    plt.rcdefaults()\n",
    "    fig, ax = plt.subplots(figsize=figsize)\n",
    "#     width = .35\n",
    "    plt.bar(features, importances, width=width, color=bar_colors)\n",
    "    if percent:\n",
    "        ax.yaxis.set_major_formatter(PercentFormatter())\n",
    "#     plt.gca().invert_yaxis()\n",
    "    title = ' '.join([prepend_title, title, append_title])\n",
    "    plt.title(title)\n",
    "    plt.xlabel('Feature', fontsize=13)\n",
    "    plt.ylabel(ylabel, fontsize=13)\n",
    "    plt.xticks(rotation=xrot)\n",
    "    plt.axis('tight')\n",
    "    plt.tight_layout()\n",
    "    if save_path:\n",
    "        plt.savefig(save_path, transparent=True)\n",
    "min_percent = 0.12\n",
    "corr = df.corr().Churn\n",
    "corr=dict(corr)\n",
    "create_plot_of_feature_importances(corr, title='Feature Correlelations to Attrition', top_num=5, width=0.5, percent=True)\n",
    "plt.xticks(rotation=-45);\n",
    "#plt.savefig('../reports/figures/corrs.png', transparent=True);"
   ]
  },
  {
   "cell_type": "code",
   "execution_count": 71,
   "metadata": {},
   "outputs": [
    {
     "data": {
      "text/plain": [
       "Text(0.5, 0, 'Tenjure')"
      ]
     },
     "execution_count": 71,
     "metadata": {},
     "output_type": "execute_result"
    },
    {
     "data": {
      "image/png": "[encoded data removed]",
      "text/plain": [
       "<Figure size 640x480 with 1 Axes>"
      ]
     },
     "metadata": {},
     "output_type": "display_data"
    }
   ],
   "source": [
    "# plot attrition by Tenure\n",
    "df[df[\"Churn\"] == 0]['Tenure'].hist(bins=35,label='Churn = NO', alpha=0.6)\n",
    "df[df[\"Churn\"] == 1]['Tenure'].hist(bins=35, label='Churn = YES', alpha=0.6)\n",
    "plt.legend()\n",
    "plt.xlabel('Tenjure')\n",
    "#plt.savefig('../reports/figures/age_dist.png', transparent=True);"
   ]
  },
  {
   "cell_type": "code",
   "execution_count": null,
   "metadata": {},
   "outputs": [],
   "source": []
  }
 ],
 "metadata": {
  "kernelspec": {
   "display_name": "Python 3",
   "language": "python",
   "name": "python3"
  },
  "language_info": {
   "codemirror_mode": {
    "name": "ipython",
    "version": 3
   },
   "file_extension": ".py",
   "mimetype": "text/x-python",
   "name": "python",
   "nbconvert_exporter": "python",
   "pygments_lexer": "ipython3",
   "version": "3.7.6"
  }
 },
 "nbformat": 4,
 "nbformat_minor": 4
}
